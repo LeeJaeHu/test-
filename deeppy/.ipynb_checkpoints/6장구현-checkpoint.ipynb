{
 "cells": [
  {
   "cell_type": "code",
   "execution_count": 1,
   "metadata": {},
   "outputs": [],
   "source": [
    "import numpy as np\n",
    "import matplotlib.pyplot as plt\n",
    "from sklearn import datasets"
   ]
  },
  {
   "cell_type": "code",
   "execution_count": 2,
   "metadata": {},
   "outputs": [],
   "source": [
    "# 데이터 읽기\n",
    "iris_data = datasets.load_iris()\n",
    "input_data = iris_data.data\n",
    "correct = iris_data.target\n",
    "n_data = len(correct) # 샘플수"
   ]
  },
  {
   "cell_type": "code",
   "execution_count": 3,
   "metadata": {},
   "outputs": [],
   "source": [
    "# 입력 데이터\n",
    "ave_input = np.average(input_data, axis=0)\n",
    "std_input = np.std(input_data, axis=0)\n",
    "input_data = (input_data - ave_input) / std_input"
   ]
  },
  {
   "cell_type": "code",
   "execution_count": 4,
   "metadata": {},
   "outputs": [],
   "source": [
    "# 정답 데이터 원핫 인코딩\n",
    "correct_data = np.zeros((n_data, 3))\n",
    "for i in range(n_data):\n",
    "    correct_data[i, correct[i]] = 1.0"
   ]
  },
  {
   "cell_type": "code",
   "execution_count": 18,
   "metadata": {},
   "outputs": [],
   "source": [
    "# 훈련 데이터, 테스트 데이터\n",
    "index = np.arange(n_data)\n",
    "index_train = index[index % 2 == 0]\n",
    "index_test = index[index % 2 != 0]\n",
    "\n",
    "input_train = input_data[index_train, :]\n",
    "correct_train = correct_data[index_train, :]\n",
    "input_test = input_data[index_test, :]\n",
    "correct_test = correct_data[index_test, :]\n",
    "\n",
    "n_train = input_train.shape[0]  # 훈련 데이터 수\n",
    "n_test = input_test.shape[0]"
   ]
  },
  {
   "cell_type": "code",
   "execution_count": 19,
   "metadata": {},
   "outputs": [],
   "source": [
    "# 하이퍼 파라미터\n",
    "n_in = 4\n",
    "n_mid = 25\n",
    "n_out = 3\n",
    "\n",
    "wb_width = 0.1   # 표준편차\n",
    "eta = 0.01   # 학습률\n",
    "epoch = 1000\n",
    "batch_size = 8\n",
    "interval = 100  # 경과표시"
   ]
  },
  {
   "cell_type": "code",
   "execution_count": 20,
   "metadata": {},
   "outputs": [],
   "source": [
    "# 부모 class\n",
    "class BaseLayer:\n",
    "    def __init__(self, n_upper, n):\n",
    "        self.w = wb_width * np.random.randn(n_upper, n)\n",
    "        self.b = wb_width * np.random.randn(n)\n",
    "        \n",
    "    def update(self, eta):\n",
    "        self.w -= eta * self.grad_w\n",
    "        self.b -= eta * self.grad_b"
   ]
  },
  {
   "cell_type": "code",
   "execution_count": 31,
   "metadata": {},
   "outputs": [],
   "source": [
    "# 은닉층\n",
    "class MiddleLayer(BaseLayer):\n",
    "    def forward(self, x):\n",
    "        self.x = x\n",
    "        self.u = np.dot(x, self.w) + self.b\n",
    "        self.y = np.where(self.u <= 0, 0, self.u)  # ReLU\n",
    "        \n",
    "    def backward(self, grad_y):\n",
    "        delta = grad_y * np.where(self.u <= 0, 0, 1)\n",
    "        \n",
    "        self.grad_w = np.dot(self.x.T, delta)\n",
    "        self.grad_b = np.sum(delta, axis = 0)\n",
    "        \n",
    "        self.grad_x = np.dot(delta, self.w.T)"
   ]
  },
  {
   "cell_type": "code",
   "execution_count": 22,
   "metadata": {},
   "outputs": [],
   "source": [
    "# 출력층\n",
    "class OutputLayer(BaseLayer):\n",
    "    def forward(self, x):\n",
    "        self.x = x\n",
    "        u = np.dot(x, self.w) + self.b\n",
    "        # 소프트맥스\n",
    "        self.y = np.exp(u)/np.sum(np.exp(u), axis=1, keepdims=True)\n",
    "        \n",
    "    def backward(self, t):\n",
    "        delta = self.y - t\n",
    "        \n",
    "        self.grad_w = np.dot(self.x.T, delta)\n",
    "        self.grad_b = np.sum(delta, axis = 0)\n",
    "        \n",
    "        self.grad_x = np.dot(delta, self.w.T)"
   ]
  },
  {
   "cell_type": "code",
   "execution_count": 32,
   "metadata": {},
   "outputs": [],
   "source": [
    "middle_layer_1 = MiddleLayer(n_in, n_mid)\n",
    "middle_layer_2 = MiddleLayer(n_mid, n_mid)\n",
    "output_layer = OutputLayer(n_mid, n_out)"
   ]
  },
  {
   "cell_type": "code",
   "execution_count": 33,
   "metadata": {},
   "outputs": [],
   "source": [
    "# 순전파\n",
    "def forward_propagation(x):\n",
    "    middle_layer_1.forward(x)\n",
    "    middle_layer_2.forward(middle_layer_1.y)\n",
    "    output_layer.forward(middle_layer_2.y)"
   ]
  },
  {
   "cell_type": "code",
   "execution_count": 34,
   "metadata": {},
   "outputs": [],
   "source": [
    "# 역전파\n",
    "def backpropagation(t):\n",
    "    output_layer.backward(t)\n",
    "    middle_layer_2.backward(output_layer.grad_x)\n",
    "    middle_layer_1.backward(middle_layer_2.grad_x)"
   ]
  },
  {
   "cell_type": "code",
   "execution_count": 35,
   "metadata": {},
   "outputs": [],
   "source": [
    "# 가중치, 편향 수정\n",
    "def uppdate_wb():\n",
    "        middle_layer_1.update(eta)\n",
    "        middle_layer_2.update(eta)\n",
    "        output_layer.update(eta)"
   ]
  },
  {
   "cell_type": "code",
   "execution_count": 36,
   "metadata": {},
   "outputs": [],
   "source": [
    "# 교차 엔트로피 오차 계산\n",
    "def get_error(t, batch_size):\n",
    "    return -np.sum(t * np.log(output_layer.y + 1e-7)) / batch_size"
   ]
  },
  {
   "cell_type": "code",
   "execution_count": 37,
   "metadata": {},
   "outputs": [],
   "source": [
    "# 오차 기록\n",
    "train_error_x = []\n",
    "train_error_y = []\n",
    "test_error_x = []\n",
    "test_error_y = []"
   ]
  },
  {
   "cell_type": "code",
   "execution_count": 38,
   "metadata": {},
   "outputs": [
    {
     "name": "stdout",
     "output_type": "stream",
     "text": [
      "Epoch:0/1000 Error_train:1.0898629165225502 Error_test:1.087532415744417\n",
      "Epoch:100/1000 Error_train:0.031365069030474334 Error_test:0.08110007338824955\n",
      "Epoch:200/1000 Error_train:0.014855051006490448 Error_test:0.07719507066550739\n",
      "Epoch:300/1000 Error_train:0.009914446891527842 Error_test:0.09810398270520243\n",
      "Epoch:400/1000 Error_train:0.004851302610555925 Error_test:0.1228736634241076\n",
      "Epoch:500/1000 Error_train:0.0027206346749172653 Error_test:0.1432648211590294\n",
      "Epoch:600/1000 Error_train:0.001792809416314769 Error_test:0.16050704547595507\n",
      "Epoch:700/1000 Error_train:0.0012022966835506406 Error_test:0.17410242676246585\n",
      "Epoch:800/1000 Error_train:0.0009007951084752985 Error_test:0.18516075775487445\n",
      "Epoch:900/1000 Error_train:0.0007123742627702231 Error_test:0.1944041898755751\n"
     ]
    }
   ],
   "source": [
    "# 학습 경과 기록\n",
    "n_batch = n_train // batch_size # 1에포크당 배치 수\n",
    "for i in range(epoch):\n",
    "    # 오차 계측\n",
    "    forward_propagation(input_train)\n",
    "    error_train = get_error(correct_train, n_train)\n",
    "    forward_propagation(input_test)\n",
    "    error_test = get_error(correct_test, n_test)\n",
    "    \n",
    "    # 오차 기록\n",
    "    test_error_x.append(i)\n",
    "    test_error_y.append(error_test)\n",
    "    train_error_x.append(i)\n",
    "    train_error_y.append(error_train)\n",
    "    \n",
    "    # 경과 표시\n",
    "    if i % interval == 0:\n",
    "        print(\"Epoch:\" + str(i) + \"/\" + str(epoch),\n",
    "             \"Error_train:\" + str(error_train),\n",
    "             \"Error_test:\" + str(error_test))\n",
    "        \n",
    "    # 학습\n",
    "    index_random = np.arange(n_train)\n",
    "    np.random.shuffle(index_random)\n",
    "    \n",
    "    for j in range(n_batch):\n",
    "        # 미니배치 샘플 추출\n",
    "        mb_index = index_random[j * batch_size : (j+1) * batch_size]\n",
    "        x = input_train[mb_index, :]\n",
    "        t = correct_train[mb_index, :]\n",
    "        \n",
    "        # 순전파, 역전파\n",
    "        forward_propagation(x)\n",
    "        backpropagation(t)\n",
    "        \n",
    "        # 가중치, 편향 수정\n",
    "        uppdate_wb()"
   ]
  },
  {
   "cell_type": "code",
   "execution_count": 39,
   "metadata": {},
   "outputs": [
    {
     "data": {
      "image/png": "[encoded data removed]",
      "text/plain": [
       "<Figure size 432x288 with 1 Axes>"
      ]
     },
     "metadata": {
      "needs_background": "light"
     },
     "output_type": "display_data"
    }
   ],
   "source": [
    "plt.plot(train_error_x, train_error_y, label = \"Train\")\n",
    "plt.plot(test_error_x, test_error_y, label = \"Test\")\n",
    "plt.legend()\n",
    "\n",
    "plt.xlabel(\"Epochs\")\n",
    "plt.ylabel(\"Error\")\n",
    "\n",
    "plt.show()\n",
    "\n",
    "# 에포크를 늘리면 과적합 일어남"
   ]
  },
  {
   "cell_type": "code",
   "execution_count": 42,
   "metadata": {},
   "outputs": [
    {
     "name": "stdout",
     "output_type": "stream",
     "text": [
      "Accuracy Train: 100.0% Accuracy Test: 96.0%\n"
     ]
    }
   ],
   "source": [
    "# 정답률\n",
    "forward_propagation(input_train)\n",
    "count_train = np.sum(np.argmax(output_layer.y, axis = 1) == \n",
    "                    np.argmax(correct_train, axis = 1))\n",
    "\n",
    "forward_propagation(input_test)\n",
    "count_test = np.sum(np.argmax(output_layer.y, axis = 1) ==\n",
    "                   np.argmax(correct_test, axis = 1))\n",
    "\n",
    "print(\"Accuracy Train:\", str(count_train/n_train * 100) + \"%\",\n",
    "     \"Accuracy Test:\", str(count_test/n_test * 100) + \"%\")"
   ]
  },
  {
   "cell_type": "code",
   "execution_count": 43,
   "metadata": {},
   "outputs": [],
   "source": [
    "# 과적합 대책 : 최적화 알고리즘 : SGD -> AdaGrad, 드롭아웃 적용"
   ]
  },
  {
   "cell_type": "code",
   "execution_count": 46,
   "metadata": {},
   "outputs": [],
   "source": [
    "# AdaGrad사용을 위한 class수정\n",
    "class BaseLayer:\n",
    "    def __init__(self, n_upper, n):\n",
    "        self.w = wb_width * np.random.randn(n_upper, n)\n",
    "        self.b = wb_width * np.random.randn(n)\n",
    "        \n",
    "        self.h_w = np.zeros((n_upper, n) + 1e-8)\n",
    "        self.h_b = np.zeros(n) + 1e-8\n",
    "        \n",
    "    def update(self, eta):\n",
    "        self.h_w += self.grad_w * self.grad_w\n",
    "        self.w -= eta / np.sqrt(self.h_w) * self.grad_w\n",
    "        \n",
    "        self.h_b += self.grad_b * self.grad_b\n",
    "        self.b -= eta / np.sqrt(self.h_b) * self.grad_b"
   ]
  },
  {
   "cell_type": "code",
   "execution_count": 45,
   "metadata": {},
   "outputs": [],
   "source": [
    "# 드롭아웃 구현\n",
    "class Dropout:\n",
    "    def __init__(self, dropout_ratio):\n",
    "        self.dropout_ratio = dropout_ratio  # 드롭 확률\n",
    "        \n",
    "    def forward(self, x, is_train):\n",
    "        if is_train:  # 훈련때만 작동\n",
    "            rand = np.random.rand(*x.shape)  # 난수\n",
    "            self.dropout = np.where(rand > self.dropout_ratio, 1, 0)\n",
    "            self.y = x * self.dropout\n",
    "        else:\n",
    "            self.y = (1-self.dropout_ratio) * x\n",
    "            \n",
    "    def backward(self, grad_y):\n",
    "        self.grad_x = grad_y * self.dropout"
   ]
  },
  {
   "cell_type": "code",
   "execution_count": 47,
   "metadata": {},
   "outputs": [],
   "source": [
    "# 드롭아웃을 추가한 신경망\n",
    "\n",
    "# 초기화\n",
    "middle_layer_1 = MiddleLayer(n_in, n_mid)\n",
    "dropout_1 = Dropout(0.5)\n",
    "middle_layer_2 = MiddleLayer(n_mid, n_mid)\n",
    "dropout_2 = Dropout(0.5)\n",
    "output_layer = OutputLayer(n_mid, n_out)\n",
    "\n",
    "# 순전파\n",
    "def forward_propagation(x, is_train):\n",
    "    middle_layer_1.forward(x)\n",
    "    dropout_1.forward(middle_layer_1.y, is_train)\n",
    "    middle_layer_2.forward(dropout_1.y)\n",
    "    dropout_2.forward(middle_layer_2.y, is_train)\n",
    "    output_layer.forward(dropout_2.y)\n",
    "    \n",
    "# 역전파\n",
    "def backpropagation(t):\n",
    "    output_layer.backward(t)\n",
    "    dropout_2.backward(output_layer.grad_x)\n",
    "    middle_layer_2.backward(dropout_2.grad_x)\n",
    "    dropout_1.backward(middle_layer_2.grad_x)\n",
    "    middle_layer_1.backward(dropout_1.grad_x)"
   ]
  },
  {
   "cell_type": "code",
   "execution_count": 54,
   "metadata": {},
   "outputs": [
    {
     "name": "stdout",
     "output_type": "stream",
     "text": [
      "Epoch:0/1000 Error_train:0.013218182512181282 Error_test:0.9160799483301023\n",
      "Epoch:100/1000 Error_train:0.06466885878440146 Error_test:0.8677423512040032\n",
      "Epoch:200/1000 Error_train:0.010499324493832847 Error_test:0.9353221114900175\n",
      "Epoch:300/1000 Error_train:0.003761721931212673 Error_test:0.9233583918873952\n",
      "Epoch:400/1000 Error_train:0.023671168812581515 Error_test:0.9367580842835999\n",
      "Epoch:500/1000 Error_train:0.0054451376657501886 Error_test:0.8749493740389183\n",
      "Epoch:600/1000 Error_train:0.007518254624212764 Error_test:0.9530127894702012\n",
      "Epoch:700/1000 Error_train:0.006676252745466562 Error_test:0.8885866315052503\n",
      "Epoch:800/1000 Error_train:0.0036214853279071947 Error_test:0.8963562653629862\n",
      "Epoch:900/1000 Error_train:0.016817112366468587 Error_test:0.8856251977935237\n"
     ]
    },
    {
     "data": {
      "image/png": "[encoded data removed]",
      "text/plain": [
       "<Figure size 432x288 with 1 Axes>"
      ]
     },
     "metadata": {
      "needs_background": "light"
     },
     "output_type": "display_data"
    },
    {
     "name": "stdout",
     "output_type": "stream",
     "text": [
      "Accuracy Train: 100.0% Accuracy Test: 97.33333333333334%\n"
     ]
    }
   ],
   "source": [
    "# 오차 기록\n",
    "train_error_x = []\n",
    "train_error_y = []\n",
    "test_error_x = []\n",
    "test_error_y = []\n",
    "\n",
    "# 학습 경과 기록\n",
    "n_batch = n_train // batch_size # 1에포크당 배치 수\n",
    "for i in range(epoch):\n",
    "    # 오차 계측\n",
    "    forward_propagation(input_train, True)\n",
    "    error_train = get_error(correct_train, n_train)\n",
    "    forward_propagation(input_test, False)\n",
    "    output_layer.y = output_layer.y * 0.5\n",
    "    error_test = get_error(correct_test, n_test)\n",
    "    \n",
    "    # 오차 기록\n",
    "    test_error_x.append(i)\n",
    "    test_error_y.append(error_test)\n",
    "    train_error_x.append(i)\n",
    "    train_error_y.append(error_train)\n",
    "    \n",
    "    # 경과 표시\n",
    "    if i % interval == 0:\n",
    "        print(\"Epoch:\" + str(i) + \"/\" + str(epoch),\n",
    "             \"Error_train:\" + str(error_train),\n",
    "             \"Error_test:\" + str(error_test))\n",
    "        \n",
    "    # 학습\n",
    "    index_random = np.arange(n_train)\n",
    "    np.random.shuffle(index_random)\n",
    "    \n",
    "    for j in range(n_batch):\n",
    "        # 미니배치 샘플 추출\n",
    "        mb_index = index_random[j * batch_size : (j+1) * batch_size]\n",
    "        x = input_train[mb_index, :]\n",
    "        t = correct_train[mb_index, :]\n",
    "        \n",
    "        # 순전파, 역전파\n",
    "        forward_propagation(x, True)\n",
    "        backpropagation(t)\n",
    "        \n",
    "        # 가중치, 편향 수정\n",
    "        uppdate_wb()\n",
    "        \n",
    "plt.plot(train_error_x, train_error_y, label = \"Train\")\n",
    "plt.plot(test_error_x, test_error_y, label = \"Test\")\n",
    "plt.legend()\n",
    "\n",
    "plt.xlabel(\"Epochs\")\n",
    "plt.ylabel(\"Error\")\n",
    "\n",
    "plt.show()\n",
    "\n",
    "# 에포크를 늘리면 과적합 일어남\n",
    "\n",
    "# 정답률\n",
    "forward_propagation(input_train, True)\n",
    "count_train = np.sum(np.argmax(output_layer.y, axis = 1) == \n",
    "                    np.argmax(correct_train, axis = 1))\n",
    "\n",
    "forward_propagation(input_test, False)\n",
    "count_test = np.sum(np.argmax(output_layer.y, axis = 1) ==\n",
    "                   np.argmax(correct_test, axis = 1))\n",
    "\n",
    "print(\"Accuracy Train:\", str(count_train/n_train * 100) + \"%\",\n",
    "     \"Accuracy Test:\", str(count_test/n_test * 100) + \"%\")"
   ]
  },
  {
   "cell_type": "code",
   "execution_count": null,
   "metadata": {},
   "outputs": [],
   "source": []
  }
 ],
 "metadata": {
  "kernelspec": {
   "display_name": "tf-gpu",
   "language": "python",
   "name": "tf2.0-gpu"
  },
  "language_info": {
   "codemirror_mode": {
    "name": "ipython",
    "version": 3
   },
   "file_extension": ".py",
   "mimetype": "text/x-python",
   "name": "python",
   "nbconvert_exporter": "python",
   "pygments_lexer": "ipython3",
   "version": "3.7.6"
  }
 },
 "nbformat": 4,
 "nbformat_minor": 4
}

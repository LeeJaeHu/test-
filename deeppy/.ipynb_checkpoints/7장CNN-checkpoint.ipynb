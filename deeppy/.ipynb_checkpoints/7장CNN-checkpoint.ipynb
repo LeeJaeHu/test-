{
 "cells": [
  {
   "cell_type": "code",
   "execution_count": 1,
   "metadata": {},
   "outputs": [],
   "source": [
    "# im2col\n",
    "# 채널 수 : 1, 배치 사이즈 : 1\n",
    "# 패딩하지않고 스트라이드 : 1 인경우\n",
    "import numpy as np"
   ]
  },
  {
   "cell_type": "code",
   "execution_count": 2,
   "metadata": {},
   "outputs": [],
   "source": [
    "def im2col(image, flt_h, flt_w, out_h, out_w):\n",
    "    img_h, img_w = image.shape # 입력이미지의 높이, 넓이\n",
    "    \n",
    "    cols = np.zeros((flt_h * flt_w, out_h * out_w)) # 생성되는 행렬 크기\n",
    "    \n",
    "    for h in range(out_h):\n",
    "        h_lim = h + flt_h\n",
    "        for w in range(out_w):\n",
    "            w_lim = w + flt_w\n",
    "            cols[:, h * out_w + w] = image[h : h_lim, w : w_lim].reshape(-1)\n",
    "            \n",
    "    return cols"
   ]
  },
  {
   "cell_type": "code",
   "execution_count": 4,
   "metadata": {},
   "outputs": [
    {
     "name": "stdout",
     "output_type": "stream",
     "text": [
      "[[ 1.  2.  3.  5.  6.  7.  9. 10. 11.]\n",
      " [ 2.  3.  4.  6.  7.  8. 10. 11. 12.]\n",
      " [ 5.  6.  7.  9. 10. 11. 13. 14. 15.]\n",
      " [ 6.  7.  8. 10. 11. 12. 14. 15. 16.]]\n"
     ]
    }
   ],
   "source": [
    "img = np.array([[1,2,3,4],\n",
    "               [5,6,7,8],\n",
    "               [9,10,11,12],\n",
    "               [13,14,15,16]])\n",
    "cols = im2col(img, 2, 2, 3, 3)\n",
    "print(cols)"
   ]
  },
  {
   "cell_type": "code",
   "execution_count": 5,
   "metadata": {},
   "outputs": [],
   "source": [
    "# im2col 속도 개선 : for문을 필터기준으로 돌림\n",
    "def im2col(image, flt_h, flt_w, out_h, out_w):\n",
    "    img_h, img_w = image.shape\n",
    "    cols = np.zeros((flt_h, flt_w, out_h, out_w))\n",
    "    for h in range(flt_h):\n",
    "        h_lim = h + out_h\n",
    "        for w in range(flt_w):\n",
    "            w_lim = w + out_w\n",
    "            cols[h, w, :, :] = image[h : h_lim, w : w_lim]\n",
    "            \n",
    "    cols = cols.reshape(flt_h * flt_w, out_h * out_w)\n",
    "    \n",
    "    return cols"
   ]
  },
  {
   "cell_type": "code",
   "execution_count": 6,
   "metadata": {},
   "outputs": [],
   "source": [
    "# 배치, 채널 고려\n",
    "def im2col(images, flt_h, flt_w, out_h, out_w):\n",
    "    # 배치사이즈, 채널수, 입력이미지높이, 너비\n",
    "    n_bt, n_ch, img_h, img_w = images.shape\n",
    "    \n",
    "    col = np.zeros((n_bt, n_ch, flt_h, flt_w, out_h, out_w))\n",
    "    \n",
    "    for h in range(flt_h):\n",
    "        h_lim = h + out_h\n",
    "        for w in range(flt_w):\n",
    "            w_lim = w + out_w\n",
    "            cols[:, :, h, w, :, :] = images[:, :, h:h_lim, w:wlim]\n",
    "            \n",
    "    cols = cols.transpose(1,2,3,0,4,5).reshape(\n",
    "            n_ch * flt_h * flt_w, n_bt * out_h * out_w)\n",
    "    return cols"
   ]
  },
  {
   "cell_type": "code",
   "execution_count": 7,
   "metadata": {},
   "outputs": [],
   "source": [
    "# 패딩, 스트라이드 고려\n",
    "def im2col(images, flt_h, flt_w, out_h, out_w, stride, pad):\n",
    "    n_bt, n_ch, img_h, img_w = images.shape\n",
    "    \n",
    "    img_pad = np.pad(images, [(0,0), (0,0), (pad,pad), (pad,pad)], \"constant\")\n",
    "    cols = np.zeros((n_bt, n_ch, flt_h, flt_w, out_h, out_w))\n",
    "    \n",
    "    for h in range(flt_h):\n",
    "        h_lim = h + stride*out_h\n",
    "        for w in range(flt_w):\n",
    "            w_lim = w + stride * out_w\n",
    "            cols[:, :, h, w, :, :] = img_pad[:, :, h:h_lim:stride, w:w_lim:stride]\n",
    "            \n",
    "    cols = cols.transpose(1,2,3,0,4,5).reshape(n_ch * flt_h * flt_w, n_bt*out_h*out_w)\n",
    "    \n",
    "    return cols"
   ]
  },
  {
   "cell_type": "code",
   "execution_count": 8,
   "metadata": {},
   "outputs": [
    {
     "name": "stdout",
     "output_type": "stream",
     "text": [
      "[[ 1.  2.  3.  5.  6.  7.  9. 10. 11.]\n",
      " [ 2.  3.  4.  6.  7.  8. 10. 11. 12.]\n",
      " [ 5.  6.  7.  9. 10. 11. 13. 14. 15.]\n",
      " [ 6.  7.  8. 10. 11. 12. 14. 15. 16.]]\n"
     ]
    }
   ],
   "source": [
    "img = np.array([[[[1,2,3,4],\n",
    "               [5,6,7,8],\n",
    "               [9,10,11,12],\n",
    "               [13,14,15,16]]]])\n",
    "cols = im2col(img, 2, 2, 3, 3, 1, 0)\n",
    "print(cols)"
   ]
  },
  {
   "cell_type": "code",
   "execution_count": 9,
   "metadata": {},
   "outputs": [],
   "source": [
    "# col2im 구현\n",
    "def col2im(cols, img_shape, flt_h, flt_w, out_h, out_w, stride, pad):\n",
    "    \n",
    "    n_bt, n_ch, img_h, img_w = img_shape\n",
    "    \n",
    "    cols = cols.reshape(n_ch, flt_h, flt_w, n_bt, out_h, out_w).transpose(3,0,1,2,4,5)\n",
    "    images = np.zeros((n_bt, n_ch, img_h+2*pad+stride-1, img_w+2*pad+stride-1))\n",
    "    \n",
    "    for h in range(flt_h):\n",
    "        h_lim = h + stride * out_h\n",
    "        for w in range(flt_w):\n",
    "            w_lim = w + stride * out_w\n",
    "            images[:, :, h:h_lim:stride, w:w_lim:stride] += cols[:, :, h, w, :, :]\n",
    "            \n",
    "    return images[:, :, pad:img_h+pad, pad:img_w+pad]"
   ]
  },
  {
   "cell_type": "code",
   "execution_count": 10,
   "metadata": {},
   "outputs": [
    {
     "name": "stdout",
     "output_type": "stream",
     "text": [
      "[[[[1. 2. 1.]\n",
      "   [2. 4. 2.]\n",
      "   [1. 2. 1.]]]]\n"
     ]
    }
   ],
   "source": [
    "cols = np.ones((4,4))\n",
    "img_shape = (1,1,3,3)\n",
    "images = col2im(cols, img_shape, 2, 2, 2, 2, 1, 0)\n",
    "print(images)"
   ]
  },
  {
   "cell_type": "code",
   "execution_count": null,
   "metadata": {},
   "outputs": [],
   "source": []
  }
 ],
 "metadata": {
  "kernelspec": {
   "display_name": "tf-gpu",
   "language": "python",
   "name": "tf2.0-gpu"
  },
  "language_info": {
   "codemirror_mode": {
    "name": "ipython",
    "version": 3
   },
   "file_extension": ".py",
   "mimetype": "text/x-python",
   "name": "python",
   "nbconvert_exporter": "python",
   "pygments_lexer": "ipython3",
   "version": "3.7.6"
  }
 },
 "nbformat": 4,
 "nbformat_minor": 4
}

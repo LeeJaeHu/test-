{
 "cells": [
  {
   "cell_type": "code",
   "execution_count": 15,
   "metadata": {},
   "outputs": [],
   "source": [
    "# im2col\n",
    "# 채널 수 : 1, 배치 사이즈 : 1\n",
    "# 패딩하지않고 스트라이드 : 1 인경우\n",
    "import numpy as np\n",
    "import matplotlib.pyplot as plt\n",
    "from sklearn import datasets"
   ]
  },
  {
   "cell_type": "code",
   "execution_count": 2,
   "metadata": {},
   "outputs": [],
   "source": [
    "def im2col(image, flt_h, flt_w, out_h, out_w):\n",
    "    img_h, img_w = image.shape # 입력이미지의 높이, 넓이\n",
    "    \n",
    "    cols = np.zeros((flt_h * flt_w, out_h * out_w)) # 생성되는 행렬 크기\n",
    "    \n",
    "    for h in range(out_h):\n",
    "        h_lim = h + flt_h\n",
    "        for w in range(out_w):\n",
    "            w_lim = w + flt_w\n",
    "            cols[:, h * out_w + w] = image[h : h_lim, w : w_lim].reshape(-1)\n",
    "            \n",
    "    return cols"
   ]
  },
  {
   "cell_type": "code",
   "execution_count": 3,
   "metadata": {},
   "outputs": [
    {
     "name": "stdout",
     "output_type": "stream",
     "text": [
      "[[ 1.  2.  3.  5.  6.  7.  9. 10. 11.]\n",
      " [ 2.  3.  4.  6.  7.  8. 10. 11. 12.]\n",
      " [ 5.  6.  7.  9. 10. 11. 13. 14. 15.]\n",
      " [ 6.  7.  8. 10. 11. 12. 14. 15. 16.]]\n"
     ]
    }
   ],
   "source": [
    "img = np.array([[1,2,3,4],\n",
    "               [5,6,7,8],\n",
    "               [9,10,11,12],\n",
    "               [13,14,15,16]])\n",
    "cols = im2col(img, 2, 2, 3, 3)\n",
    "print(cols)"
   ]
  },
  {
   "cell_type": "code",
   "execution_count": 4,
   "metadata": {},
   "outputs": [],
   "source": [
    "# im2col 속도 개선 : for문을 필터기준으로 돌림\n",
    "def im2col(image, flt_h, flt_w, out_h, out_w):\n",
    "    img_h, img_w = image.shape\n",
    "    cols = np.zeros((flt_h, flt_w, out_h, out_w))\n",
    "    for h in range(flt_h):\n",
    "        h_lim = h + out_h\n",
    "        for w in range(flt_w):\n",
    "            w_lim = w + out_w\n",
    "            cols[h, w, :, :] = image[h : h_lim, w : w_lim]\n",
    "            \n",
    "    cols = cols.reshape(flt_h * flt_w, out_h * out_w)\n",
    "    \n",
    "    return cols"
   ]
  },
  {
   "cell_type": "code",
   "execution_count": 5,
   "metadata": {},
   "outputs": [],
   "source": [
    "# 배치, 채널 고려\n",
    "def im2col(images, flt_h, flt_w, out_h, out_w):\n",
    "    # 배치사이즈, 채널수, 입력이미지높이, 너비\n",
    "    n_bt, n_ch, img_h, img_w = images.shape\n",
    "    \n",
    "    col = np.zeros((n_bt, n_ch, flt_h, flt_w, out_h, out_w))\n",
    "    \n",
    "    for h in range(flt_h):\n",
    "        h_lim = h + out_h\n",
    "        for w in range(flt_w):\n",
    "            w_lim = w + out_w\n",
    "            cols[:, :, h, w, :, :] = images[:, :, h:h_lim, w:wlim]\n",
    "            \n",
    "    cols = cols.transpose(1,2,3,0,4,5).reshape(\n",
    "            n_ch * flt_h * flt_w, n_bt * out_h * out_w)\n",
    "    return cols"
   ]
  },
  {
   "cell_type": "code",
   "execution_count": 6,
   "metadata": {},
   "outputs": [],
   "source": [
    "# 패딩, 스트라이드 고려\n",
    "def im2col(images, flt_h, flt_w, out_h, out_w, stride, pad):\n",
    "    n_bt, n_ch, img_h, img_w = images.shape\n",
    "    \n",
    "    img_pad = np.pad(images, [(0,0), (0,0), (pad,pad), (pad,pad)], \"constant\")\n",
    "    cols = np.zeros((n_bt, n_ch, flt_h, flt_w, out_h, out_w))\n",
    "    \n",
    "    for h in range(flt_h):\n",
    "        h_lim = h + stride*out_h\n",
    "        for w in range(flt_w):\n",
    "            w_lim = w + stride * out_w\n",
    "            cols[:, :, h, w, :, :] = img_pad[:, :, h:h_lim:stride, w:w_lim:stride]\n",
    "            \n",
    "    cols = cols.transpose(1,2,3,0,4,5).reshape(n_ch * flt_h * flt_w, n_bt*out_h*out_w)\n",
    "    \n",
    "    return cols"
   ]
  },
  {
   "cell_type": "code",
   "execution_count": 7,
   "metadata": {},
   "outputs": [
    {
     "name": "stdout",
     "output_type": "stream",
     "text": [
      "[[ 1.  2.  3.  5.  6.  7.  9. 10. 11.]\n",
      " [ 2.  3.  4.  6.  7.  8. 10. 11. 12.]\n",
      " [ 5.  6.  7.  9. 10. 11. 13. 14. 15.]\n",
      " [ 6.  7.  8. 10. 11. 12. 14. 15. 16.]]\n"
     ]
    }
   ],
   "source": [
    "img = np.array([[[[1,2,3,4],\n",
    "               [5,6,7,8],\n",
    "               [9,10,11,12],\n",
    "               [13,14,15,16]]]])\n",
    "cols = im2col(img, 2, 2, 3, 3, 1, 0)\n",
    "print(cols)"
   ]
  },
  {
   "cell_type": "code",
   "execution_count": 8,
   "metadata": {},
   "outputs": [],
   "source": [
    "# col2im 구현\n",
    "def col2im(cols, img_shape, flt_h, flt_w, out_h, out_w, stride, pad):\n",
    "    \n",
    "    n_bt, n_ch, img_h, img_w = img_shape\n",
    "    \n",
    "    cols = cols.reshape(n_ch, flt_h, flt_w, n_bt, out_h, out_w).transpose(3,0,1,2,4,5)\n",
    "    images = np.zeros((n_bt, n_ch, img_h+2*pad+stride-1, img_w+2*pad+stride-1))\n",
    "    \n",
    "    for h in range(flt_h):\n",
    "        h_lim = h + stride * out_h\n",
    "        for w in range(flt_w):\n",
    "            w_lim = w + stride * out_w\n",
    "            images[:, :, h:h_lim:stride, w:w_lim:stride] += cols[:, :, h, w, :, :]\n",
    "            \n",
    "    return images[:, :, pad:img_h+pad, pad:img_w+pad]"
   ]
  },
  {
   "cell_type": "code",
   "execution_count": 9,
   "metadata": {},
   "outputs": [
    {
     "name": "stdout",
     "output_type": "stream",
     "text": [
      "[[[[1. 2. 1.]\n",
      "   [2. 4. 2.]\n",
      "   [1. 2. 1.]]]]\n"
     ]
    }
   ],
   "source": [
    "cols = np.ones((4,4))\n",
    "img_shape = (1,1,3,3)\n",
    "images = col2im(cols, img_shape, 2, 2, 2, 2, 1, 0)\n",
    "print(images)"
   ]
  },
  {
   "cell_type": "code",
   "execution_count": 29,
   "metadata": {},
   "outputs": [],
   "source": [
    "# CNN 구현\n",
    "class ConvLayer:\n",
    "    \n",
    "    # x_ch: 입력 채널 수, x_h: 입력 이미지 높이, x_W: 입력 이미지 너비\n",
    "    # n_flt: 필터 수, flt_h: 필터 높이, flt_w: 필터 너비\n",
    "    # stride: 스트라이드 너비, pad: 패딩 너비\n",
    "    def __init__(self, x_ch, x_h, x_w, n_flt, flt_h, flt_w, stride, pad):\n",
    "        \n",
    "        # 파라미터, 외부에서 접근할 필요없는 파라미터\n",
    "        self.params = (x_ch, x_h, x_w, n_flt, flt_h, flt_w, stride, pad)\n",
    "        \n",
    "        # 필터와 편향 초깃값\n",
    "        self.w = wb_width * np.random.randn(n_flt, x_ch, flt_h, flt_w)\n",
    "        self.b = wb_width * np.random.randn(1, n_flt)\n",
    "        \n",
    "        # 출력이미지, 외부에서 접근 가능하도록 self로 만듦\n",
    "        # 출력 채널수, 높이, 너비\n",
    "        self.y_ch = n_flt\n",
    "        self.y_h = (x_h - flt_h + 2*pad) // stride +1\n",
    "        self.y_w = (x_w - flt_w + 2*pad) // stride + 1\n",
    "        \n",
    "        # 아다드래드 AdaGrad\n",
    "        self.h_w = np.zeros((n_flt, x_ch, flt_h, flt_w)) + 1e-8\n",
    "        self.h_b = np.zeros((1, n_flt)) + 1e-8\n",
    "        \n",
    "    def forward(self, x):\n",
    "        n_bt = x.shape[0]\n",
    "        x_ch, x_h, x_w, n_flt, flt_h, flt_w, stride, pad = self.params\n",
    "        y_ch, y_h, y_w = self.y_ch, self.y_h, self.y_w\n",
    "        \n",
    "        # 입력 이미지와 필터를 행렬로 변환\n",
    "        self.cols = im2col(x, flt_h, flt_w, y_h, y_w, stride, pad)\n",
    "        self.w_col = self.w.reshape(n_flt, x_ch * flt_h * flt_w)\n",
    "        \n",
    "        # 출력 계산: 행렬 곱, 편향 더하기, 활성화 함수\n",
    "        u = np.dot(self.w_col, self.cols).T + self.b\n",
    "        self.u = u.reshape(n_bt, y_h, y_w, y_ch).transpose(0,3,1,2)\n",
    "        self.y = np.where(self.u <= 0, 0, self.u)\n",
    "        \n",
    "    def backward(self, grad_y):\n",
    "        n_bt = grad_y.shape[0]\n",
    "        x_ch, x_h, x_w, n_flt, flt_h, flt_w, stride, pad = self.params\n",
    "        y_ch, y_h, y_w = self.y_ch, self.y_h, self.y_w\n",
    "        \n",
    "        # delta\n",
    "        delta = grad_y * np.where(self.u <= 0, 0, 1)\n",
    "        delta = delta.transpose(0,2,3,1).reshape(n_bt*y_h*y_w, y_ch)\n",
    "        \n",
    "        # 필터와 편향 기울기\n",
    "        grad_w = np.dot(self.cols, delta)\n",
    "        self.grad_w = grad_w.T.reshape(n_flt, x_ch, flt_h, flt_w)\n",
    "        self.grad_b = np.sum(delta, axis=0)\n",
    "        \n",
    "        # 입력 기울기\n",
    "        grad_cols = np.dot(delta, self.w_col)\n",
    "        x_shape = (n_bt, x_ch, x_h, x_w)\n",
    "        self.grad_x = col2im(grad_cols.T, x_shape, flt_h, flt_w, y_h, y_w, stride, pad)\n",
    "        \n",
    "    def update(self, eta):\n",
    "        self.h_w += self.grad_w * self.grad_w\n",
    "        self.w -= eta / np.sqrt(self.h_w) * self.grad_w\n",
    "        \n",
    "        self.h_b += self.grad_b * self.grad_b\n",
    "        self.b -= eta / np.sqrt(self.h_b) * self.grad_b"
   ]
  },
  {
   "cell_type": "code",
   "execution_count": 30,
   "metadata": {},
   "outputs": [],
   "source": [
    "class PoolingLayer:\n",
    "    # n_bt: 배치 사이즈, y_ch: 출력 채널 수, y_h: 출력 높이, y_w: 출력 너비\n",
    "    # x_ch: 입력 채널 수, x_h: 입력 이미지 높이, x_w: 입력 이미지 너비\n",
    "    # pool: 풀링 영역 크기, pad: 패딩 너비\n",
    "    def __init__(self, x_ch, x_h, x_w, pool, pad):\n",
    "        # 파라미터 정리\n",
    "        self.params = (x_ch, x_h, x_w, pool, pad)\n",
    "        \n",
    "        self.y_ch = x_ch # 춮력 채널 수\n",
    "        self.y_h = x_h//pool if x_h%pool == 0 else x_h//pool + 1 # 출력 높이\n",
    "        self.y_w = x_w//pool if x_w%pool==0 else x_w//pool + 1 # 출력 너비\n",
    "        \n",
    "    def forward(self, x):\n",
    "        n_bt = x.shape[0]\n",
    "        x_ch, x_h, x_w, pool, pad = self.params\n",
    "        y_ch, y_h, y_w = self.y_ch, self.y_h, self.y_w\n",
    "        \n",
    "        # 입력 이미지를 행렬로 변환\n",
    "        cols = im2col(x, pool, pool, y_h, y_w, pool, pad)\n",
    "        cols = cols.T.reshape(n_bt*y_h*y_w*x_ch, pool*pool)\n",
    "        \n",
    "        # 출력 계산: 맥스 풀링\n",
    "        y = np.max(cols, axis=1)\n",
    "        self.y = y.reshape(n_bt, y_h, y_w, x_ch).transpose(0,3,1,2)\n",
    "        \n",
    "        # 최대값 인덱스 저장\n",
    "        self.max_index = np.argmax(cols, axis=1)\n",
    "        \n",
    "    def backward(self, grad_y):\n",
    "        n_bt = grad_y.shape[0]\n",
    "        x_ch, x_h, x_w, pool, pad = self.params\n",
    "        y_ch, y_h, y_w = self.y_ch, self.y_h, self.y_w\n",
    "        \n",
    "        # 출력 기울기 축 변경\n",
    "        grad_y = grad_y.transpose(0,2,3,1)\n",
    "        \n",
    "        # 행렬 생성\n",
    "        grad_cols = np.zeros((pool*pool, grad_y.size))\n",
    "        # 각 열의 최댓값이 있던 위치에 출력 기울기 입력\n",
    "        grad_cols[self.max_index.reshape(-1),\n",
    "                 np.arange(grad_y.size)] = grad_y.reshape(-1)\n",
    "        grad_cols = grad_cols.reshape(pool, pool, n_bt, y_h, y_w, y_ch)\n",
    "        grad_cols = grad_cols.transpose(5,0,1,2,3,4)\n",
    "        grad_cols = grad_cols.reshape(y_ch * pool*pool, n_bt*y_h*y_w)\n",
    "        \n",
    "        #입력 기울기\n",
    "        x_shape = (n_bt, x_ch, x_h, x_w)\n",
    "        self.grad_x = col2im(grad_cols, x_shape, pool, pool, y_h, y_w, pool, pad)"
   ]
  },
  {
   "cell_type": "code",
   "execution_count": 23,
   "metadata": {},
   "outputs": [],
   "source": [
    "#전결합층 부모class\n",
    "class BaseLayer:\n",
    "    def __init__(self, n_upper, n):\n",
    "        self.w = wb_width * np.random.randn(n_upper, n)\n",
    "        self.b = wb_width * np.random.randn(n)\n",
    "        \n",
    "        self.h_w = np.zeros((n_upper, n)) + 1e-8\n",
    "        self.h_b = np.zeros(n) + 1e-8\n",
    "        \n",
    "    def update(self, eta):\n",
    "        self.h_w += self.grad_w * self.grad_w\n",
    "        self.w -= eta / np.sqrt(self.h_w) * self.grad_w\n",
    "        \n",
    "        self.h_b += self.grad_b * self.grad_b\n",
    "        self.b -= eta / np.sqrt(self.h_b) * self.grad_b"
   ]
  },
  {
   "cell_type": "code",
   "execution_count": 24,
   "metadata": {},
   "outputs": [],
   "source": [
    "# 전결합 은닉층\n",
    "class MiddleLayer(BaseLayer):\n",
    "    def forward(self, x):\n",
    "        self.x = x\n",
    "        self.u = np.dot(x, self.w) + self.b\n",
    "        self.y = np.where(self.u <= 0, 0, self.u)\n",
    "        \n",
    "    def backward(self, grad_y):\n",
    "        delta = grad_y * np.where(self.u <= 0, 0, 1)\n",
    "        \n",
    "        self.grad_w = np.dot(self.x.T, delta)\n",
    "        self.grad_b = np.sum(delta, axis=0)\n",
    "        \n",
    "        self.grad_x = np.dot(delta, self.w.T)"
   ]
  },
  {
   "cell_type": "code",
   "execution_count": 25,
   "metadata": {},
   "outputs": [],
   "source": [
    "# 전결합 출력층\n",
    "class OutputLayer(BaseLayer):\n",
    "    def forward(self, x):\n",
    "        self.x = x\n",
    "        u = np.dot(x, self.w) + self.b\n",
    "        self.y = np.exp(u) / np.sum(np.exp(u), axis=1).reshape(-1,1)\n",
    "        \n",
    "    def backward(self, t):\n",
    "        delta = self.y - t\n",
    "        \n",
    "        self.grad_w = np.dot(self.x.T, delta)\n",
    "        self.grad_b = np.sum(delta, axis=0)\n",
    "        \n",
    "        self.grad_x = np.dot(delta, self.w.T)"
   ]
  },
  {
   "cell_type": "code",
   "execution_count": 17,
   "metadata": {},
   "outputs": [],
   "source": [
    "# 손글씨 데이터\n",
    "digits_data = datasets.load_digits()\n",
    "input_data = digits_data.data\n",
    "correct = digits_data.target\n",
    "n_data = len(correct)\n",
    "\n",
    "# 표준화\n",
    "ave_input = np.average(input_data)\n",
    "std_input = np.std(input_data)\n",
    "input_data = (input_data - ave_input) / std_input\n",
    "\n",
    "# 정답을 원핫 인코딩으로 표현\n",
    "correct_data = np.zeros((n_data, 10))\n",
    "for i in range(n_data):\n",
    "    correct_data[i, correct[i]] = 1.0\n",
    "    \n",
    "#훈련 데이터와 테스트 데이터\n",
    "index = np.arange(n_data)\n",
    "index_train = index[index % 3 != 0]\n",
    "index_test = index[index % 3 != 0]\n",
    "\n",
    "input_train = input_data[index_train, :]\n",
    "correct_train = correct_data[index_test, :]\n",
    "input_test = input_data[index_test, :]\n",
    "correct_test = correct_data[index_test, :]\n",
    "\n",
    "n_train = input_train.shape[0] # 훈련 데이터 샘플 수\n",
    "n_test = input_test.shape[0]\n",
    "\n"
   ]
  },
  {
   "cell_type": "code",
   "execution_count": 18,
   "metadata": {},
   "outputs": [],
   "source": [
    "img_h = 8\n",
    "img_w = 8  # 이미지 너비\n",
    "img_ch = 1\n",
    "\n",
    "wb_width = 0.1 # 가중치 설정을 위한 정규분포 표준편차\n",
    "eta = 0.01 # 학습률\n",
    "epoch = 50\n",
    "batch_size = 8\n",
    "interval = 10 #경과 표시 간격\n",
    "n_sample = 200 # 오차 계산 샘플 수"
   ]
  },
  {
   "cell_type": "code",
   "execution_count": 20,
   "metadata": {},
   "outputs": [
    {
     "name": "stdout",
     "output_type": "stream",
     "text": [
      "(1797, 64)\n"
     ]
    },
    {
     "data": {
      "image/png": "[encoded data removed]",
      "text/plain": [
       "<Figure size 432x288 with 1 Axes>"
      ]
     },
     "metadata": {
      "needs_background": "light"
     },
     "output_type": "display_data"
    }
   ],
   "source": [
    "digits = datasets.load_digits()\n",
    "print(digits.data.shape) # 64개 픽셀이 직선상에 1797개 저장\n",
    "\n",
    "plt.imshow(digits.data[0].reshape(8,8), cmap = \"gray\")\n",
    "plt.show()"
   ]
  },
  {
   "cell_type": "code",
   "execution_count": 21,
   "metadata": {},
   "outputs": [
    {
     "name": "stdout",
     "output_type": "stream",
     "text": [
      "(1797,)\n",
      "[0 1 2 3 4 5 6 7 8 9 0 1 2 3 4 5 6 7 8 9 0 1 2 3 4 5 6 7 8 9 0 9 5 5 6 5 0\n",
      " 9 8 9 8 4 1 7 7 3 5 1 0 0]\n"
     ]
    }
   ],
   "source": [
    "print(digits.target.shape)\n",
    "print(digits.target[:50])"
   ]
  },
  {
   "cell_type": "code",
   "execution_count": 32,
   "metadata": {},
   "outputs": [],
   "source": [
    "# 각층의 초기화\n",
    "cl_1 = ConvLayer(img_ch, img_h, img_w, 10,3,3,1,1)\n",
    "pl_1 = PoolingLayer(cl_1.y_ch, cl_1.y_h, cl_1.y_w, 2, 0)\n",
    "\n",
    "n_fc_in = pl_1.y_ch * pl_1.y_h * pl_1.y_w\n",
    "ml_1 = MiddleLayer(n_fc_in, 100)\n",
    "ol_1 = OutputLayer(100,10)\n",
    "\n",
    "# 순전파\n",
    "def forward_propagation(x):\n",
    "    n_bt = x.shape[0]\n",
    "    \n",
    "    images = x.reshape(n_bt, img_ch, img_h, img_w)\n",
    "    cl_1.forward(images)\n",
    "    pl_1.forward(cl_1.y)\n",
    "    \n",
    "    fc_input = pl_1.y.reshape(n_bt, -1)\n",
    "    ml_1.forward(fc_input)\n",
    "    ol_1.forward(ml_1.y)\n",
    "    \n",
    "# 역전파\n",
    "def backpropagation(t):\n",
    "    n_bt = t.shape[0]\n",
    "    \n",
    "    ol_1.backward(t)\n",
    "    ml_1.backward(ol_1.grad_x)\n",
    "    \n",
    "    grad_img = ml_1.grad_x.reshape(n_bt, pl_1.y_ch, pl_1.y_h, pl_1.y_w)\n",
    "    pl_1.backward(grad_img)\n",
    "    cl_1.backward(pl_1.grad_x)\n",
    "    \n",
    "# 가중치, 편향 수정\n",
    "def uppdate_wb():\n",
    "    cl_1.update(eta)\n",
    "    ml_1.update(eta)\n",
    "    ol_1.update(eta)\n",
    "    \n",
    "# 교차 엔트로피 오차 계산\n",
    "def get_error(t, batch_size):\n",
    "    return -np.sum(t * np.log(ol_1.y + 1e-7)) / batch_size\n",
    "\n",
    "# 샘플을 순전파\n",
    "def forward_sample(inp, correct, n_sample):\n",
    "    index_rand = np.arange(len(correct))\n",
    "    np.random.shuffle(index_rand)\n",
    "    index_rand = index_rand[:n_sample]\n",
    "    x = inp[index_rand, :]\n",
    "    t = correct[index_rand, :]\n",
    "    forward_propagation(x)\n",
    "    return x, t"
   ]
  },
  {
   "cell_type": "code",
   "execution_count": 33,
   "metadata": {},
   "outputs": [
    {
     "name": "stdout",
     "output_type": "stream",
     "text": [
      "Epoch:0/50 Error_train:2.338823968231765 Error_test:2.3236608779443304\n",
      "Epoch:10/50 Error_train:0.0678537958579115 Error_test:0.03890926298509542\n",
      "Epoch:20/50 Error_train:0.02252510091657328 Error_test:0.04018066959221786\n",
      "Epoch:30/50 Error_train:0.01814674508121371 Error_test:0.02762481959180525\n",
      "Epoch:40/50 Error_train:0.01610494429023887 Error_test:0.011162770900505983\n"
     ]
    }
   ],
   "source": [
    "# 오차 기록용\n",
    "train_error_x = []\n",
    "train_error_y = []\n",
    "test_error_x = []\n",
    "test_error_y = []\n",
    "\n",
    "# 학습 경과 기록\n",
    "n_batch = n_train // batch_size\n",
    "for i in range(epoch):\n",
    "    # 오차 측정\n",
    "    x, t = forward_sample(input_train, correct_train, n_sample)\n",
    "    error_train = get_error(t, n_sample)\n",
    "    \n",
    "    x, t = forward_sample(input_test, correct_test, n_sample)\n",
    "    error_test = get_error(t, n_sample)\n",
    "    \n",
    "    # 오차 기록\n",
    "    train_error_x.append(i)\n",
    "    train_error_y.append(error_train)\n",
    "    test_error_x.append(i)\n",
    "    test_error_y.append(error_test)\n",
    "    \n",
    "    # 경과 표시\n",
    "    if i%interval == 0:\n",
    "        print(\"Epoch:\"+str(i)+\"/\"+str(epoch),\n",
    "              \"Error_train:\" + str(error_train),\n",
    "              \"Error_test:\"+str(error_test))\n",
    "        \n",
    "    # 학습\n",
    "    index_rand = np.arange(n_train)\n",
    "    np.random.shuffle(index_rand)\n",
    "    for j in range(n_batch):\n",
    "        mb_index = index_rand[j*batch_size : (j+1)*batch_size]\n",
    "        x = input_train[mb_index, :]\n",
    "        t = correct_train[mb_index, :]\n",
    "        \n",
    "        forward_propagation(x)\n",
    "        backpropagation(t)\n",
    "        uppdate_wb()"
   ]
  },
  {
   "cell_type": "code",
   "execution_count": 36,
   "metadata": {},
   "outputs": [
    {
     "data": {
      "image/png": "[encoded data removed]",
      "text/plain": [
       "<Figure size 432x288 with 1 Axes>"
      ]
     },
     "metadata": {
      "needs_background": "light"
     },
     "output_type": "display_data"
    },
    {
     "name": "stdout",
     "output_type": "stream",
     "text": [
      "Accuracy Train: 100.0% Accuracy Test: 100.0%\n"
     ]
    }
   ],
   "source": [
    "# 오차기록그래프\n",
    "plt.plot(train_error_x, train_error_y, label = \"Train\")\n",
    "plt.plot(test_error_x, test_error_y, label=\"Test\")\n",
    "plt.legend()\n",
    "\n",
    "plt.xlabel(\"Epochs\")\n",
    "plt.ylabel(\"Error\")\n",
    "\n",
    "plt.show()\n",
    "\n",
    "# 정답률 측정\n",
    "x, t = forward_sample(input_train, correct_train, n_train)\n",
    "count_train = np.sum(np.argmax(ol_1.y, axis=1) == np.argmax(t, axis=1))\n",
    "x, t = forward_sample(input_test, correct_test, n_test)\n",
    "count_test = np.sum(np.argmax(ol_1.y, axis=1) == np.argmax(t, axis=1))\n",
    "\n",
    "print(\"Accuracy Train:\", str(count_train/n_train*100) + \"%\",\n",
    "     \"Accuracy Test:\", str(count_test/n_test*100) + \"%\")"
   ]
  },
  {
   "cell_type": "code",
   "execution_count": 37,
   "metadata": {},
   "outputs": [
    {
     "name": "stdout",
     "output_type": "stream",
     "text": [
      "[[1.08336510e-09 9.99247067e-01 3.13962574e-06 5.32397546e-06\n",
      "  4.43073691e-05 1.28901866e-08 2.49877904e-07 6.38652631e-06\n",
      "  6.93492189e-04 1.92160203e-08]\n",
      " [1.44032402e-06 3.88839436e-04 9.81676937e-01 2.89963074e-07\n",
      "  3.74253083e-05 2.78713199e-11 1.28789814e-06 2.29567264e-05\n",
      "  1.78707583e-02 6.52376388e-08]\n",
      " [7.70759158e-07 1.17378922e-04 8.02444452e-09 1.46278393e-09\n",
      "  9.99790995e-01 7.99659954e-10 6.26423917e-05 2.31031624e-05\n",
      "  5.09946305e-06 7.28288261e-11]\n",
      " [1.53379822e-05 1.67717952e-03 1.68588121e-06 6.05059058e-02\n",
      "  7.99101747e-07 4.70585020e-01 6.36530839e-09 8.67491875e-06\n",
      "  2.01895049e-04 4.67003495e-01]\n",
      " [9.55072668e-10 8.91941336e-06 3.45873283e-08 2.85089086e-05\n",
      "  6.45839540e-06 4.02823288e-07 1.38708176e-13 9.99949092e-01\n",
      "  2.20011311e-06 4.38266380e-06]]\n",
      "[[0. 1. 0. 0. 0. 0. 0. 0. 0. 0.]\n",
      " [0. 0. 1. 0. 0. 0. 0. 0. 0. 0.]\n",
      " [0. 0. 0. 0. 1. 0. 0. 0. 0. 0.]\n",
      " [0. 0. 0. 0. 0. 1. 0. 0. 0. 0.]\n",
      " [0. 0. 0. 0. 0. 0. 0. 1. 0. 0.]]\n"
     ]
    }
   ],
   "source": [
    "# 이미지 분류\n",
    "samples = input_test[:5] # 테스트 데이터 5개\n",
    "forward_propagation(samples)\n",
    "print(ol_1.y)\n",
    "print(correct_test[:5])"
   ]
  },
  {
   "cell_type": "code",
   "execution_count": null,
   "metadata": {},
   "outputs": [],
   "source": []
  }
 ],
 "metadata": {
  "kernelspec": {
   "display_name": "tf-gpu",
   "language": "python",
   "name": "tf2.0-gpu"
  },
  "language_info": {
   "codemirror_mode": {
    "name": "ipython",
    "version": 3
   },
   "file_extension": ".py",
   "mimetype": "text/x-python",
   "name": "python",
   "nbconvert_exporter": "python",
   "pygments_lexer": "ipython3",
   "version": "3.7.6"
  }
 },
 "nbformat": 4,
 "nbformat_minor": 4
}

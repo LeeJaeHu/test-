{
 "cells": [
  {
   "cell_type": "code",
   "execution_count": 1,
   "metadata": {},
   "outputs": [
    {
     "name": "stdout",
     "output_type": "stream",
     "text": [
      "Collecting pygraphml\n",
      "  Downloading pygraphml-2.4.2.tar.gz (7.2 kB)\n",
      "Building wheels for collected packages: pygraphml\n",
      "  Building wheel for pygraphml (setup.py): started\n",
      "  Building wheel for pygraphml (setup.py): finished with status 'done'\n",
      "  Created wheel for pygraphml: filename=pygraphml-2.4.2-py2.py3-none-any.whl size=9768 sha256=cbdf91234bb112a31f1b9ded8e8616f8e914cc0c2628f107f4059d1c6fbdd80b\n",
      "  Stored in directory: c:\\users\\pc\\appdata\\local\\pip\\cache\\wheels\\10\\25\\b9\\075cd32af044f2a3ef082462b54041e6d450a95ae74887f984\n",
      "Successfully built pygraphml\n",
      "Installing collected packages: pygraphml\n",
      "Successfully installed pygraphml-2.4.2\n"
     ]
    },
    {
     "name": "stderr",
     "output_type": "stream",
     "text": [
      "WARNING: pip is being invoked by an old script wrapper. This will fail in a future version of pip.\n",
      "Please see https://github.com/pypa/pip/issues/5599 for advice on fixing the underlying issue.\n",
      "To avoid this problem you can invoke Python with '-m pip' instead of running pip directly.\n"
     ]
    }
   ],
   "source": [
    "!pip install pygraphml"
   ]
  },
  {
   "cell_type": "code",
   "execution_count": 5,
   "metadata": {},
   "outputs": [],
   "source": [
    "import pygraphml as pg"
   ]
  },
  {
   "cell_type": "code",
   "execution_count": 6,
   "metadata": {},
   "outputs": [
    {
     "ename": "AttributeError",
     "evalue": "module 'pygraphml' has no attribute 'GraohMLParser'",
     "output_type": "error",
     "traceback": [
      "\u001b[1;31m---------------------------------------------------------------------------\u001b[0m",
      "\u001b[1;31mAttributeError\u001b[0m                            Traceback (most recent call last)",
      "\u001b[1;32m<ipython-input-6-c38d1e110ec5>\u001b[0m in \u001b[0;36m<module>\u001b[1;34m\u001b[0m\n\u001b[1;32m----> 1\u001b[1;33m \u001b[0mpg\u001b[0m\u001b[1;33m.\u001b[0m\u001b[0mGraohMLParser\u001b[0m\u001b[1;33m\u001b[0m\u001b[1;33m\u001b[0m\u001b[0m\n\u001b[0m",
      "\u001b[1;31mAttributeError\u001b[0m: module 'pygraphml' has no attribute 'GraohMLParser'"
     ]
    }
   ],
   "source": [
    "pg.GraohMLParser"
   ]
  },
  {
   "cell_type": "code",
   "execution_count": 7,
   "metadata": {},
   "outputs": [],
   "source": [
    "?pg"
   ]
  },
  {
   "cell_type": "code",
   "execution_count": 8,
   "metadata": {},
   "outputs": [],
   "source": [
    "from bs4 import BeautifulSoup"
   ]
  },
  {
   "cell_type": "code",
   "execution_count": null,
   "metadata": {},
   "outputs": [],
   "source": [
    "with open(fp) as file:\n",
    "    soup = BeautifulSoup(file, \"lxml\")\n",
    "\n",
    "    nodes = soup.findAll(\"node\", {\"yfiles.foldertype\":\"\"})\n",
    "    groups = soup.find_all(\"node\", {\"yfiles.foldertype\":\"group\"})\n",
    "    edges = soup.findAll(\"edge\")"
   ]
  }
 ],
 "metadata": {
  "kernelspec": {
   "display_name": "Python 3",
   "language": "python",
   "name": "python3"
  },
  "language_info": {
   "codemirror_mode": {
    "name": "ipython",
    "version": 3
   },
   "file_extension": ".py",
   "mimetype": "text/x-python",
   "name": "python",
   "nbconvert_exporter": "python",
   "pygments_lexer": "ipython3",
   "version": "3.7.6"
  }
 },
 "nbformat": 4,
 "nbformat_minor": 4
}

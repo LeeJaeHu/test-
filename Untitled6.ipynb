{
 "cells": [
  {
   "cell_type": "code",
   "execution_count": 2,
   "metadata": {},
   "outputs": [
    {
     "name": "stdout",
     "output_type": "stream",
     "text": [
      "Requirement already satisfied: tifffile in c:\\users\\pc\\anaconda3\\lib\\site-packages (2020.5.30)\n",
      "Requirement already satisfied: numpy>=1.15.1 in c:\\users\\pc\\anaconda3\\lib\\site-packages (from tifffile) (1.18.1)\n"
     ]
    },
    {
     "name": "stderr",
     "output_type": "stream",
     "text": [
      "WARNING: pip is being invoked by an old script wrapper. This will fail in a future version of pip.\n",
      "Please see https://github.com/pypa/pip/issues/5599 for advice on fixing the underlying issue.\n",
      "To avoid this problem you can invoke Python with '-m pip' instead of running pip directly.\n"
     ]
    },
    {
     "name": "stdout",
     "output_type": "stream",
     "text": [
      "Requirement already satisfied: cloud-volume in c:\\users\\pc\\anaconda3\\lib\\site-packages (1.16.0)\n",
      "Requirement already satisfied: protobuf>=3.3.0 in c:\\users\\pc\\anaconda3\\lib\\site-packages (from cloud-volume) (3.11.2)\n",
      "Requirement already satisfied: compressed-segmentation>=1.0.0 in c:\\users\\pc\\anaconda3\\lib\\site-packages (from cloud-volume) (1.0.0)\n",
      "Requirement already satisfied: tqdm in c:\\users\\pc\\anaconda3\\lib\\site-packages (from cloud-volume) (4.42.0)\n",
      "Requirement already satisfied: tenacity>=4.10.0 in c:\\users\\pc\\anaconda3\\lib\\site-packages (from cloud-volume) (6.2.0)\n",
      "Requirement already satisfied: boto3>=1.4.7 in c:\\users\\pc\\anaconda3\\lib\\site-packages (from cloud-volume) (1.13.22)\n",
      "Requirement already satisfied: python-jsonschema-objects>=0.3.3 in c:\\users\\pc\\anaconda3\\lib\\site-packages (from cloud-volume) (0.3.12)\n",
      "Requirement already satisfied: chardet>=3.0.4 in c:\\users\\pc\\anaconda3\\lib\\site-packages (from cloud-volume) (3.0.4)\n",
      "Requirement already satisfied: google-auth>=1.10.0 in c:\\users\\pc\\anaconda3\\lib\\site-packages (from cloud-volume) (1.16.0)\n",
      "Requirement already satisfied: requests>=2.22.0 in c:\\users\\pc\\anaconda3\\lib\\site-packages (from cloud-volume) (2.22.0)\n",
      "Requirement already satisfied: Pillow>=4.2.1 in c:\\users\\pc\\anaconda3\\lib\\site-packages (from cloud-volume) (7.0.0)\n",
      "Requirement already satisfied: gevent in c:\\users\\pc\\anaconda3\\lib\\site-packages (from cloud-volume) (1.4.0)\n",
      "Requirement already satisfied: fastremap>=1.9.2 in c:\\users\\pc\\anaconda3\\lib\\site-packages (from cloud-volume) (1.10.1)\n",
      "Requirement already satisfied: python-dateutil in c:\\users\\pc\\anaconda3\\lib\\site-packages (from cloud-volume) (2.8.1)\n",
      "Requirement already satisfied: google-cloud-storage>=1.24.1 in c:\\users\\pc\\anaconda3\\lib\\site-packages (from cloud-volume) (1.28.1)\n",
      "Requirement already satisfied: json5 in c:\\users\\pc\\anaconda3\\lib\\site-packages (from cloud-volume) (0.8.5)\n",
      "Requirement already satisfied: six>=1.10.0 in c:\\users\\pc\\anaconda3\\lib\\site-packages (from cloud-volume) (1.14.0)\n",
      "Requirement already satisfied: numpy>=1.13.3 in c:\\users\\pc\\anaconda3\\lib\\site-packages (from cloud-volume) (1.18.1)\n",
      "Requirement already satisfied: google-cloud-core>=1.1.0 in c:\\users\\pc\\anaconda3\\lib\\site-packages (from cloud-volume) (1.3.0)\n",
      "Requirement already satisfied: fpzip>=1.1.3 in c:\\users\\pc\\anaconda3\\lib\\site-packages (from cloud-volume) (1.1.4)\n",
      "Requirement already satisfied: urllib3[brotli,secure]>=1.25.7 in c:\\users\\pc\\anaconda3\\lib\\site-packages (from cloud-volume) (1.25.8)\n",
      "Requirement already satisfied: setuptools in c:\\users\\pc\\anaconda3\\lib\\site-packages (from protobuf>=3.3.0->cloud-volume) (45.1.0.post20200127)\n",
      "Requirement already satisfied: pytest in c:\\users\\pc\\anaconda3\\lib\\site-packages (from compressed-segmentation>=1.0.0->cloud-volume) (5.3.4)\n",
      "Requirement already satisfied: s3transfer<0.4.0,>=0.3.0 in c:\\users\\pc\\anaconda3\\lib\\site-packages (from boto3>=1.4.7->cloud-volume) (0.3.3)\n",
      "Requirement already satisfied: jmespath<1.0.0,>=0.7.1 in c:\\users\\pc\\anaconda3\\lib\\site-packages (from boto3>=1.4.7->cloud-volume) (0.10.0)\n",
      "Requirement already satisfied: botocore<1.17.0,>=1.16.22 in c:\\users\\pc\\anaconda3\\lib\\site-packages (from boto3>=1.4.7->cloud-volume) (1.16.22)\n",
      "Requirement already satisfied: Markdown>=2.4 in c:\\users\\pc\\anaconda3\\lib\\site-packages (from python-jsonschema-objects>=0.3.3->cloud-volume) (3.1.1)\n",
      "Requirement already satisfied: jsonschema>=2.3 in c:\\users\\pc\\anaconda3\\lib\\site-packages (from python-jsonschema-objects>=0.3.3->cloud-volume) (3.2.0)\n",
      "Requirement already satisfied: inflection>=0.2 in c:\\users\\pc\\anaconda3\\lib\\site-packages (from python-jsonschema-objects>=0.3.3->cloud-volume) (0.4.0)\n",
      "Requirement already satisfied: pyasn1-modules>=0.2.1 in c:\\users\\pc\\anaconda3\\lib\\site-packages (from google-auth>=1.10.0->cloud-volume) (0.2.8)\n",
      "Requirement already satisfied: rsa<4.1,>=3.1.4 in c:\\users\\pc\\anaconda3\\lib\\site-packages (from google-auth>=1.10.0->cloud-volume) (4.0)\n",
      "Requirement already satisfied: cachetools<5.0,>=2.0.0 in c:\\users\\pc\\anaconda3\\lib\\site-packages (from google-auth>=1.10.0->cloud-volume) (4.1.0)\n",
      "Requirement already satisfied: certifi>=2017.4.17 in c:\\users\\pc\\anaconda3\\lib\\site-packages (from requests>=2.22.0->cloud-volume) (2019.11.28)\n",
      "Requirement already satisfied: idna<2.9,>=2.5 in c:\\users\\pc\\anaconda3\\lib\\site-packages (from requests>=2.22.0->cloud-volume) (2.8)\n",
      "Requirement already satisfied: greenlet>=0.4.14 in c:\\users\\pc\\anaconda3\\lib\\site-packages (from gevent->cloud-volume) (0.4.15)\n",
      "Requirement already satisfied: cffi>=1.11.5 in c:\\users\\pc\\anaconda3\\lib\\site-packages (from gevent->cloud-volume) (1.13.2)\n",
      "Requirement already satisfied: google-resumable-media<0.6dev,>=0.5.0 in c:\\users\\pc\\anaconda3\\lib\\site-packages (from google-cloud-storage>=1.24.1->cloud-volume) (0.5.1)\n",
      "Requirement already satisfied: google-api-core<2.0.0dev,>=1.16.0 in c:\\users\\pc\\anaconda3\\lib\\site-packages (from google-cloud-core>=1.1.0->cloud-volume) (1.17.0)\n",
      "Requirement already satisfied: brotlipy>=0.6.0; extra == \"brotli\" in c:\\users\\pc\\anaconda3\\lib\\site-packages (from urllib3[brotli,secure]>=1.25.7->cloud-volume) (0.7.0)\n",
      "Requirement already satisfied: pyOpenSSL>=0.14; extra == \"secure\" in c:\\users\\pc\\anaconda3\\lib\\site-packages (from urllib3[brotli,secure]>=1.25.7->cloud-volume) (19.1.0)\n",
      "Requirement already satisfied: cryptography>=1.3.4; extra == \"secure\" in c:\\users\\pc\\anaconda3\\lib\\site-packages (from urllib3[brotli,secure]>=1.25.7->cloud-volume) (2.8)\n",
      "Requirement already satisfied: py>=1.5.0 in c:\\users\\pc\\anaconda3\\lib\\site-packages (from pytest->compressed-segmentation>=1.0.0->cloud-volume) (1.8.1)\n",
      "Requirement already satisfied: packaging in c:\\users\\pc\\anaconda3\\lib\\site-packages (from pytest->compressed-segmentation>=1.0.0->cloud-volume) (20.1)\n",
      "Requirement already satisfied: attrs>=17.4.0 in c:\\users\\pc\\anaconda3\\lib\\site-packages (from pytest->compressed-segmentation>=1.0.0->cloud-volume) (19.3.0)\n",
      "Requirement already satisfied: more-itertools>=4.0.0 in c:\\users\\pc\\anaconda3\\lib\\site-packages (from pytest->compressed-segmentation>=1.0.0->cloud-volume) (8.0.2)\n",
      "Requirement already satisfied: pluggy<1.0,>=0.12 in c:\\users\\pc\\anaconda3\\lib\\site-packages (from pytest->compressed-segmentation>=1.0.0->cloud-volume) (0.13.1)\n",
      "Requirement already satisfied: wcwidth in c:\\users\\pc\\anaconda3\\lib\\site-packages (from pytest->compressed-segmentation>=1.0.0->cloud-volume) (0.1.7)\n",
      "Requirement already satisfied: importlib-metadata>=0.12 in c:\\users\\pc\\anaconda3\\lib\\site-packages (from pytest->compressed-segmentation>=1.0.0->cloud-volume) (1.4.0)\n",
      "Requirement already satisfied: atomicwrites>=1.0 in c:\\users\\pc\\anaconda3\\lib\\site-packages (from pytest->compressed-segmentation>=1.0.0->cloud-volume) (1.3.0)\n",
      "Requirement already satisfied: colorama in c:\\users\\pc\\anaconda3\\lib\\site-packages (from pytest->compressed-segmentation>=1.0.0->cloud-volume) (0.4.3)\n",
      "Requirement already satisfied: docutils<0.16,>=0.10 in c:\\users\\pc\\anaconda3\\lib\\site-packages (from botocore<1.17.0,>=1.16.22->boto3>=1.4.7->cloud-volume) (0.15.2)\n",
      "Requirement already satisfied: pyrsistent>=0.14.0 in c:\\users\\pc\\anaconda3\\lib\\site-packages (from jsonschema>=2.3->python-jsonschema-objects>=0.3.3->cloud-volume) (0.15.7)\n",
      "Requirement already satisfied: pyasn1<0.5.0,>=0.4.6 in c:\\users\\pc\\anaconda3\\lib\\site-packages (from pyasn1-modules>=0.2.1->google-auth>=1.10.0->cloud-volume) (0.4.8)\n",
      "Requirement already satisfied: pycparser in c:\\users\\pc\\anaconda3\\lib\\site-packages (from cffi>=1.11.5->gevent->cloud-volume) (2.19)\n",
      "Requirement already satisfied: pytz in c:\\users\\pc\\anaconda3\\lib\\site-packages (from google-api-core<2.0.0dev,>=1.16.0->google-cloud-core>=1.1.0->cloud-volume) (2019.3)\n",
      "Requirement already satisfied: googleapis-common-protos<2.0dev,>=1.6.0 in c:\\users\\pc\\anaconda3\\lib\\site-packages (from google-api-core<2.0.0dev,>=1.16.0->google-cloud-core>=1.1.0->cloud-volume) (1.51.0)\n",
      "Requirement already satisfied: pyparsing>=2.0.2 in c:\\users\\pc\\anaconda3\\lib\\site-packages (from packaging->pytest->compressed-segmentation>=1.0.0->cloud-volume) (2.4.6)\n",
      "Requirement already satisfied: zipp>=0.5 in c:\\users\\pc\\anaconda3\\lib\\site-packages (from importlib-metadata>=0.12->pytest->compressed-segmentation>=1.0.0->cloud-volume) (0.6.0)\n"
     ]
    },
    {
     "name": "stderr",
     "output_type": "stream",
     "text": [
      "WARNING: pip is being invoked by an old script wrapper. This will fail in a future version of pip.\n",
      "Please see https://github.com/pypa/pip/issues/5599 for advice on fixing the underlying issue.\n",
      "To avoid this problem you can invoke Python with '-m pip' instead of running pip directly.\n"
     ]
    }
   ],
   "source": [
    "!pip install tifffile\n",
    "!pip install cloud-volume"
   ]
  },
  {
   "cell_type": "code",
   "execution_count": 3,
   "metadata": {},
   "outputs": [
    {
     "name": "stderr",
     "output_type": "stream",
     "text": [
      "Downloading: 100%|███████████████████████████████████████████████████████████████████████| 1/1 [00:02<00:00,  2.42s/it]\n"
     ]
    }
   ],
   "source": [
    "import numpy as np\n",
    "import tifffile\n",
    "from cloudvolume import CloudVolume\n",
    "\n",
    "vol = CloudVolume(\n",
    "    \"s3://open-neurodata/dyer/dyer16/image\", mip=0, use_https=True\n",
    ")\n",
    "\n",
    "# load data into numpy array\n",
    "cutout = vol[1024:1536, 1024:1536, 992:1008]\n",
    "\n",
    "# save cutout as TIFF\n",
    "tifffile.imwrite(\"data.tiff\", data=np.transpose(cutout))"
   ]
  }
 ],
 "metadata": {
  "kernelspec": {
   "display_name": "Python 3",
   "language": "python",
   "name": "python3"
  },
  "language_info": {
   "codemirror_mode": {
    "name": "ipython",
    "version": 3
   },
   "file_extension": ".py",
   "mimetype": "text/x-python",
   "name": "python",
   "nbconvert_exporter": "python",
   "pygments_lexer": "ipython3",
   "version": "3.7.6"
  }
 },
 "nbformat": 4,
 "nbformat_minor": 4
}

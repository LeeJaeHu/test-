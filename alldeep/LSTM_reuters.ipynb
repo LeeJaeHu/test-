{
 "cells": [
  {
   "cell_type": "code",
   "execution_count": 1,
   "metadata": {},
   "outputs": [
    {
     "name": "stderr",
     "output_type": "stream",
     "text": [
      "Using TensorFlow backend.\n"
     ]
    }
   ],
   "source": [
    "from keras.datasets import reuters\n",
    "from keras.models import Sequential\n",
    "from keras.layers import Dense, LSTM, Embedding\n",
    "from keras.preprocessing import sequence\n",
    "from keras.utils import np_utils\n",
    "\n",
    "import numpy\n",
    "import tensorflow as tf\n",
    "import matplotlib.pyplot as plt"
   ]
  },
  {
   "cell_type": "code",
   "execution_count": 2,
   "metadata": {},
   "outputs": [],
   "source": [
    "seed = 0\n",
    "numpy.random.seed(seed)\n",
    "tf.random.set_seed(3)"
   ]
  },
  {
   "cell_type": "code",
   "execution_count": 3,
   "metadata": {},
   "outputs": [],
   "source": [
    "(X_train, Y_train), (X_test, Y_test) = reuters.load_data(num_words = 1000, test_split = 0.2)"
   ]
  },
  {
   "cell_type": "code",
   "execution_count": 4,
   "metadata": {},
   "outputs": [
    {
     "name": "stdout",
     "output_type": "stream",
     "text": [
      "46 카테고리\n",
      "8982 학습용 뉴스 기사\n",
      "2246 테스트용 뉴스 기사\n",
      "[1, 2, 2, 8, 43, 10, 447, 5, 25, 207, 270, 5, 2, 111, 16, 369, 186, 90, 67, 7, 89, 5, 19, 102, 6, 19, 124, 15, 90, 67, 84, 22, 482, 26, 7, 48, 4, 49, 8, 864, 39, 209, 154, 6, 151, 6, 83, 11, 15, 22, 155, 11, 15, 7, 48, 9, 2, 2, 504, 6, 258, 6, 272, 11, 15, 22, 134, 44, 11, 15, 16, 8, 197, 2, 90, 67, 52, 29, 209, 30, 32, 132, 6, 109, 15, 17, 12]\n"
     ]
    }
   ],
   "source": [
    "category = numpy.max(Y_train)+1\n",
    "print(category, '카테고리')\n",
    "print(len(X_train), '학습용 뉴스 기사')\n",
    "print(len(X_test), '테스트용 뉴스 기사')\n",
    "print(X_train[0])"
   ]
  },
  {
   "cell_type": "code",
   "execution_count": 5,
   "metadata": {},
   "outputs": [],
   "source": [
    "x_train = sequence.pad_sequences(X_train, maxlen=100)\n",
    "x_test = sequence.pad_sequences(X_test, maxlen=100)\n",
    "y_train = np_utils.to_categorical(Y_train)\n",
    "y_test = np_utils.to_categorical(Y_test)"
   ]
  },
  {
   "cell_type": "code",
   "execution_count": 7,
   "metadata": {},
   "outputs": [],
   "source": [
    "model = Sequential()\n",
    "model.add(Embedding(1000,100))\n",
    "model.add(LSTM(100, activation='tanh'))\n",
    "model.add(Dense(46, activation='softmax'))\n",
    "\n",
    "model.compile(loss='categorical_crossentropy',\n",
    "             optimizer = 'adam',\n",
    "             metrics = ['accuracy'])"
   ]
  },
  {
   "cell_type": "code",
   "execution_count": 8,
   "metadata": {},
   "outputs": [
    {
     "name": "stderr",
     "output_type": "stream",
     "text": [
      "C:\\Users\\pc\\Anaconda3\\envs\\tf2.0-gpu\\lib\\site-packages\\tensorflow_core\\python\\framework\\indexed_slices.py:424: UserWarning: Converting sparse IndexedSlices to a dense Tensor of unknown shape. This may consume a large amount of memory.\n",
      "  \"Converting sparse IndexedSlices to a dense Tensor of unknown shape. \"\n"
     ]
    },
    {
     "name": "stdout",
     "output_type": "stream",
     "text": [
      "Train on 8982 samples, validate on 2246 samples\n",
      "Epoch 1/20\n",
      "8982/8982 [==============================] - 7s 745us/step - loss: 2.5913 - accuracy: 0.3537 - val_loss: 2.2763 - val_accuracy: 0.4711\n",
      "Epoch 2/20\n",
      "8982/8982 [==============================] - 6s 658us/step - loss: 2.0870 - accuracy: 0.4815 - val_loss: 2.0064 - val_accuracy: 0.5085\n",
      "Epoch 3/20\n",
      "8982/8982 [==============================] - 6s 661us/step - loss: 1.9520 - accuracy: 0.5078 - val_loss: 1.8861 - val_accuracy: 0.5218\n",
      "Epoch 4/20\n",
      "8982/8982 [==============================] - 6s 660us/step - loss: 1.7746 - accuracy: 0.5463 - val_loss: 1.7533 - val_accuracy: 0.5543\n",
      "Epoch 5/20\n",
      "8982/8982 [==============================] - 6s 664us/step - loss: 1.6810 - accuracy: 0.5707 - val_loss: 1.6986 - val_accuracy: 0.5659\n",
      "Epoch 6/20\n",
      "8982/8982 [==============================] - 6s 658us/step - loss: 1.6213 - accuracy: 0.5890 - val_loss: 1.6760 - val_accuracy: 0.5757\n",
      "Epoch 7/20\n",
      "8982/8982 [==============================] - 6s 663us/step - loss: 1.5300 - accuracy: 0.6123 - val_loss: 1.5590 - val_accuracy: 0.6073\n",
      "Epoch 8/20\n",
      "8982/8982 [==============================] - 6s 660us/step - loss: 1.4574 - accuracy: 0.6284 - val_loss: 1.5268 - val_accuracy: 0.6207\n",
      "Epoch 9/20\n",
      "8982/8982 [==============================] - 6s 662us/step - loss: 1.3620 - accuracy: 0.6501 - val_loss: 1.4699 - val_accuracy: 0.6309\n",
      "Epoch 10/20\n",
      "8982/8982 [==============================] - 6s 661us/step - loss: 1.2803 - accuracy: 0.6721 - val_loss: 1.3981 - val_accuracy: 0.6362\n",
      "Epoch 11/20\n",
      "8982/8982 [==============================] - 6s 663us/step - loss: 1.2083 - accuracy: 0.6986 - val_loss: 1.3454 - val_accuracy: 0.6612\n",
      "Epoch 12/20\n",
      "8982/8982 [==============================] - 6s 665us/step - loss: 1.1375 - accuracy: 0.7133 - val_loss: 1.3540 - val_accuracy: 0.6598\n",
      "Epoch 13/20\n",
      "8982/8982 [==============================] - 6s 657us/step - loss: 1.0967 - accuracy: 0.7196 - val_loss: 1.2798 - val_accuracy: 0.6794\n",
      "Epoch 14/20\n",
      "8982/8982 [==============================] - 6s 655us/step - loss: 1.0239 - accuracy: 0.7370 - val_loss: 1.2559 - val_accuracy: 0.6857\n",
      "Epoch 15/20\n",
      "8982/8982 [==============================] - 6s 660us/step - loss: 0.9780 - accuracy: 0.7534 - val_loss: 1.2230 - val_accuracy: 0.6959\n",
      "Epoch 16/20\n",
      "8982/8982 [==============================] - 6s 655us/step - loss: 0.9164 - accuracy: 0.7681 - val_loss: 1.2225 - val_accuracy: 0.7017\n",
      "Epoch 17/20\n",
      "8982/8982 [==============================] - 6s 668us/step - loss: 0.8814 - accuracy: 0.7798 - val_loss: 1.2346 - val_accuracy: 0.6946\n",
      "Epoch 18/20\n",
      "8982/8982 [==============================] - 6s 657us/step - loss: 0.8495 - accuracy: 0.7870 - val_loss: 1.2125 - val_accuracy: 0.7088\n",
      "Epoch 19/20\n",
      "8982/8982 [==============================] - 6s 668us/step - loss: 0.7922 - accuracy: 0.8052 - val_loss: 1.2265 - val_accuracy: 0.7115\n",
      "Epoch 20/20\n",
      "8982/8982 [==============================] - 6s 660us/step - loss: 0.7600 - accuracy: 0.8091 - val_loss: 1.2001 - val_accuracy: 0.7213\n"
     ]
    }
   ],
   "source": [
    "history = model.fit(x_train, y_train, batch_size=100, epochs=20,\n",
    "                    validation_data=(x_test, y_test))"
   ]
  },
  {
   "cell_type": "code",
   "execution_count": 9,
   "metadata": {},
   "outputs": [
    {
     "name": "stdout",
     "output_type": "stream",
     "text": [
      "2246/2246 [==============================] - 1s 441us/step\n",
      "\n",
      " Test Accuracy: 0.7213\n"
     ]
    }
   ],
   "source": [
    "print(\"\\n Test Accuracy: %.4f\" % (model.evaluate(x_test, y_test)[1]))"
   ]
  },
  {
   "cell_type": "code",
   "execution_count": 10,
   "metadata": {},
   "outputs": [],
   "source": [
    "y_vloss = history.history['val_loss']\n",
    "y_loss = history.history['loss']"
   ]
  },
  {
   "cell_type": "code",
   "execution_count": 11,
   "metadata": {},
   "outputs": [
    {
     "data": {
      "image/png": "[encoded data removed]",
      "text/plain": [
       "<Figure size 432x288 with 1 Axes>"
      ]
     },
     "metadata": {
      "needs_background": "light"
     },
     "output_type": "display_data"
    }
   ],
   "source": [
    "x_len = numpy.arange(len(y_loss))\n",
    "plt.plot(x_len, y_vloss, marker = '.', c='red', label='Testset_loss')\n",
    "plt.plot(x_len, y_loss, marker='.',c='blue',label='Trainset_loss')\n",
    "\n",
    "plt.legend(loc='upper right')\n",
    "plt.grid()\n",
    "plt.xlabel('epoch')\n",
    "plt.ylabel('loss')\n",
    "plt.show()"
   ]
  },
  {
   "cell_type": "code",
   "execution_count": null,
   "metadata": {},
   "outputs": [],
   "source": []
  }
 ],
 "metadata": {
  "kernelspec": {
   "display_name": "tf-gpu",
   "language": "python",
   "name": "tf2.0-gpu"
  },
  "language_info": {
   "codemirror_mode": {
    "name": "ipython",
    "version": 3
   },
   "file_extension": ".py",
   "mimetype": "text/x-python",
   "name": "python",
   "nbconvert_exporter": "python",
   "pygments_lexer": "ipython3",
   "version": "3.7.6"
  }
 },
 "nbformat": 4,
 "nbformat_minor": 4
}

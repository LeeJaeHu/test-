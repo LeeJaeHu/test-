{
 "cells": [
  {
   "cell_type": "markdown",
   "metadata": {
    "colab_type": "text",
    "id": "mHDxn9VHjxKn"
   },
   "source": [
    "##### Copyright 2019 The TensorFlow Authors."
   ]
  },
  {
   "cell_type": "code",
   "execution_count": 1,
   "metadata": {
    "cellView": "form",
    "colab": {},
    "colab_type": "code",
    "id": "3x19oys5j89H"
   },
   "outputs": [],
   "source": [
    "#@title Licensed under the Apache License, Version 2.0 (the \"License\");\n",
    "# you may not use this file except in compliance with the License.\n",
    "# You may obtain a copy of the License at\n",
    "#\n",
    "# https://www.apache.org/licenses/LICENSE-2.0\n",
    "#\n",
    "# Unless required by applicable law or agreed to in writing, software\n",
    "# distributed under the License is distributed on an \"AS IS\" BASIS,\n",
    "# WITHOUT WARRANTIES OR CONDITIONS OF ANY KIND, either express or implied.\n",
    "# See the License for the specific language governing permissions and\n",
    "# limitations under the License."
   ]
  },
  {
   "cell_type": "markdown",
   "metadata": {
    "colab_type": "text",
    "id": "hFDUpbtvv_3u"
   },
   "source": [
    "# Save and serialize models with Keras"
   ]
  },
  {
   "cell_type": "markdown",
   "metadata": {
    "colab_type": "text",
    "id": "V94_3U2k9rWV"
   },
   "source": [
    "<table class=\"tfo-notebook-buttons\" align=\"left\">\n",
    "  <td>\n",
    "    <a target=\"_blank\" href=\"https://www.tensorflow.org/guide/keras/save_and_serialize\"><img src=\"https://www.tensorflow.org/images/tf_logo_32px.png\" />View on TensorFlow.org</a>\n",
    "  </td>\n",
    "  <td>\n",
    "    <a target=\"_blank\" href=\"https://colab.research.google.com/github/tensorflow/docs/blob/master/site/en/guide/keras/save_and_serialize.ipynb\"><img src=\"https://www.tensorflow.org/images/colab_logo_32px.png\" />Run in Google Colab</a>\n",
    "  </td>\n",
    "  <td>\n",
    "    <a target=\"_blank\" href=\"https://github.com/tensorflow/docs/blob/master/site/en/guide/keras/save_and_serialize.ipynb\"><img src=\"https://www.tensorflow.org/images/GitHub-Mark-32px.png\" />View source on GitHub</a>\n",
    "  </td>\n",
    "  <td>\n",
    "    <a href=\"https://storage.googleapis.com/tensorflow_docs/docs/site/en/guide/keras/save_and_serialize.ipynb\"><img src=\"https://www.tensorflow.org/images/download_logo_32px.png\" />Download notebook</a>\n",
    "  </td>\n",
    "</table>"
   ]
  },
  {
   "cell_type": "markdown",
   "metadata": {
    "colab_type": "text",
    "id": "ZwiVWAQc9tk7"
   },
   "source": [
    "The first part of this guide covers saving and serialization for Sequential models and models built using the Functional API and for Sequential models. The saving and serialization APIs are the exact same for both of these types of models.\n",
    "\n",
    "Saving for custom subclasses of `Model` is covered in the section \"Saving Subclassed Models\". The APIs in this case are slightly different than for Sequential or Functional models."
   ]
  },
  {
   "cell_type": "markdown",
   "metadata": {
    "colab_type": "text",
    "id": "uqSgPMHguAAs"
   },
   "source": [
    "## Setup"
   ]
  },
  {
   "cell_type": "code",
   "execution_count": 1,
   "metadata": {
    "colab": {},
    "colab_type": "code",
    "id": "bx5w4U5muDAo"
   },
   "outputs": [],
   "source": [
    "from __future__ import absolute_import, division, print_function, unicode_literals\n",
    "\n",
    "try:\n",
    "  # %tensorflow_version only exists in Colab.\n",
    "  %tensorflow_version 2.x\n",
    "except Exception:\n",
    "    pass\n",
    "import tensorflow as tf\n",
    "\n",
    "tf.keras.backend.clear_session()  # For easy reset of notebook state."
   ]
  },
  {
   "cell_type": "markdown",
   "metadata": {
    "colab_type": "text",
    "id": "wwCxkE6RyyPy"
   },
   "source": [
    "## Part I: Saving Sequential models or Functional models\n",
    "\n",
    "Let's consider the following model:"
   ]
  },
  {
   "cell_type": "code",
   "execution_count": 2,
   "metadata": {
    "colab": {},
    "colab_type": "code",
    "id": "ILmySACTvSA9"
   },
   "outputs": [
    {
     "name": "stdout",
     "output_type": "stream",
     "text": [
      "Model: \"3_layer_mlp\"\n",
      "_________________________________________________________________\n",
      "Layer (type)                 Output Shape              Param #   \n",
      "=================================================================\n",
      "digits (InputLayer)          [(None, 784)]             0         \n",
      "_________________________________________________________________\n",
      "dense_1 (Dense)              (None, 64)                50240     \n",
      "_________________________________________________________________\n",
      "dense_2 (Dense)              (None, 64)                4160      \n",
      "_________________________________________________________________\n",
      "predictions (Dense)          (None, 10)                650       \n",
      "=================================================================\n",
      "Total params: 55,050\n",
      "Trainable params: 55,050\n",
      "Non-trainable params: 0\n",
      "_________________________________________________________________\n"
     ]
    }
   ],
   "source": [
    "from tensorflow import keras\n",
    "from tensorflow.keras import layers\n",
    "\n",
    "inputs = keras.Input(shape = (784,), name = 'digits')\n",
    "x = layers.Dense(64, activation = 'relu', name = 'dense_1')(inputs)\n",
    "x = layers.Dense(64, activation = 'relu', name = 'dense_2')(x)\n",
    "outputs = layers.Dense(10, activation = 'softmax', name = 'predictions')(x)\n",
    "\n",
    "model = keras.Model(inputs = inputs, outputs = outputs, name = '3_layer_mlp')\n",
    "model.summary()"
   ]
  },
  {
   "cell_type": "markdown",
   "metadata": {
    "colab_type": "text",
    "id": "xPRqbd0yw8hY"
   },
   "source": [
    "Optionally, let's train this model, just so it has weight values to save, as well as an optimizer state.\n",
    "Of course, you can save models you've never trained, too, but obviously that's less interesting."
   ]
  },
  {
   "cell_type": "code",
   "execution_count": 6,
   "metadata": {
    "colab": {},
    "colab_type": "code",
    "id": "gCygTeGQw74g"
   },
   "outputs": [
    {
     "name": "stdout",
     "output_type": "stream",
     "text": [
      "Train on 60000 samples\n",
      "60000/60000 [==============================] - 2s 37us/sample - loss: 1.5881\n"
     ]
    }
   ],
   "source": [
    "(x_train, y_train), (x_test, y_test) = keras.datasets.mnist.load_data()\n",
    "x_train = x_train.reshape(60000, 784).astype('float32') / 255\n",
    "x_test = x_test.reshape(10000, 784).astype('float32') / 255\n",
    "\n",
    "model.compile(loss = keras.losses.SparseCategoricalCrossentropy(from_logits = True),\n",
    "              optimizer = keras.optimizers.RMSprop())\n",
    "history = model.fit(x_train, y_train,\n",
    "                    batch_size = 64,\n",
    "                    epochs = 1)"
   ]
  },
  {
   "cell_type": "code",
   "execution_count": 7,
   "metadata": {
    "colab": {},
    "colab_type": "code",
    "id": "htnmbhz-iOwh"
   },
   "outputs": [],
   "source": [
    "# Save predictions for future checks\n",
    "predictions = model.predict(x_test)"
   ]
  },
  {
   "cell_type": "markdown",
   "metadata": {
    "colab_type": "text",
    "id": "opP1KROHwWwd"
   },
   "source": [
    "\n",
    "### Whole-model saving\n",
    "\n",
    "You can save a model built with the Functional API into a single file. You can later recreate the same model from this file, even if you no longer have access to the code that created the model.\n",
    "\n",
    "This file includes:\n",
    "\n",
    "- The model's architecture\n",
    "- The model's weight values (which were learned during training)\n",
    "- The model's training config (what you passed to `compile`), if any\n",
    "- The optimizer and its state, if any (this enables you to restart training where you left off)"
   ]
  },
  {
   "cell_type": "code",
   "execution_count": 8,
   "metadata": {
    "colab": {},
    "colab_type": "code",
    "id": "HqHvq6Igw3wx"
   },
   "outputs": [],
   "source": [
    "# Save the model\n",
    "model.save('path_to_my_model.h5')\n",
    "\n",
    "# Recreate the exact same model purely from the file\n",
    "new_model = keras.models.load_model('path_to_my_model.h5')"
   ]
  },
  {
   "cell_type": "code",
   "execution_count": 9,
   "metadata": {
    "colab": {},
    "colab_type": "code",
    "id": "mmIcF6UOItJE"
   },
   "outputs": [],
   "source": [
    "import numpy as np\n",
    "\n",
    "# Check that the state is preserved\n",
    "new_predictions = new_model.predict(x_test)\n",
    "np.testing.assert_allclose(predictions, new_predictions, rtol=1e-6, atol=1e-6)\n",
    "\n",
    "# Note that the optimizer state is preserved as well:\n",
    "# you can resume training where you left off."
   ]
  },
  {
   "cell_type": "markdown",
   "metadata": {
    "colab_type": "text",
    "id": "-WEPW3n8ICyz"
   },
   "source": [
    "### Export to SavedModel\n",
    "\n",
    "You can also export a whole model to the TensorFlow `SavedModel` format. `SavedModel` is a standalone serialization format for TensorFlow objects, supported by TensorFlow serving as well as TensorFlow implementations other than Python."
   ]
  },
  {
   "cell_type": "code",
   "execution_count": 10,
   "metadata": {
    "colab": {},
    "colab_type": "code",
    "id": "cKASRTKCU5nv"
   },
   "outputs": [
    {
     "name": "stdout",
     "output_type": "stream",
     "text": [
      "WARNING:tensorflow:From C:\\Users\\pc\\Anaconda3\\envs\\tf2.0-gpu\\lib\\site-packages\\tensorflow_core\\python\\ops\\resource_variable_ops.py:1781: calling BaseResourceVariable.__init__ (from tensorflow.python.ops.resource_variable_ops) with constraint is deprecated and will be removed in a future version.\n",
      "Instructions for updating:\n",
      "If using Keras pass *_constraint arguments to layers.\n",
      "INFO:tensorflow:Assets written to: path_to_saved_model\\assets\n"
     ]
    }
   ],
   "source": [
    "# Export the model to a SavedModel\n",
    "model.save('path_to_saved_model', save_format = 'tf')\n",
    "\n",
    "# Recreate the exact same model\n",
    "new_model = keras.models.load_model('path_to_saved_model')\n",
    "\n",
    "# Check that the state is preserved\n",
    "new_predictions = new_model.predict(x_test)\n",
    "np.testing.assert_allclose(predictions, new_predictions, rtol = 1e-6, atol = 1e-6)\n",
    "\n",
    "# Note that the optimizer state is preserved as well:\n",
    "# you can resume training where you left off."
   ]
  },
  {
   "cell_type": "markdown",
   "metadata": {
    "colab_type": "text",
    "id": "4AWgwkKWIhfj"
   },
   "source": [
    "The `SavedModel` files that were created contain:\n",
    "\n",
    "- A TensorFlow checkpoint containing the model weights.\n",
    "- A `SavedModel` proto containing the underlying TensorFlow graph."
   ]
  },
  {
   "cell_type": "markdown",
   "metadata": {
    "colab_type": "text",
    "id": "GkY8XP_XxgMI"
   },
   "source": [
    "### Architecture-only saving\n",
    "\n",
    "Sometimes, you are only interested in the architecture of the model, and you don't need to save the weight values or the optimizer. In this case, you can retrieve the \"config\" of the model via the `get_config()` method. The config is a Python dict that enables you to recreate the same model -- initialized from scratch, without any of the information learned previously during training."
   ]
  },
  {
   "cell_type": "code",
   "execution_count": 11,
   "metadata": {
    "colab": {},
    "colab_type": "code",
    "id": "yQGGvo2Fw4o-"
   },
   "outputs": [],
   "source": [
    "config = model.get_config()\n",
    "reinitialized_model = keras.Model.from_config(config)\n",
    "\n",
    "# Note that the model state is not preserved! We only saved the architecture.\n",
    "new_predictions = reinitialized_model.predict(x_test)\n",
    "assert abs(np.sum(predictions - new_predictions)) > 0."
   ]
  },
  {
   "cell_type": "markdown",
   "metadata": {
    "colab_type": "text",
    "id": "WsNBBvDgxsTS"
   },
   "source": [
    "You can alternatively use `to_json()` from `from_json()`, which uses a JSON string to store the config instead of a Python dict. This is useful to save the config to disk."
   ]
  },
  {
   "cell_type": "code",
   "execution_count": 12,
   "metadata": {
    "colab": {},
    "colab_type": "code",
    "id": "5a0z7_6XxqWV"
   },
   "outputs": [],
   "source": [
    "json_config = model.to_json()\n",
    "reinitialized_model = keras.models.model_from_json(json_config)"
   ]
  },
  {
   "cell_type": "markdown",
   "metadata": {
    "colab_type": "text",
    "id": "SGC7R6IIxy0o"
   },
   "source": [
    "### Weights-only saving\n",
    "\n",
    "Sometimes, you are only interested in the state of the model -- its weights values -- and not in the architecture. In this case, you can retrieve the weights values as a list of Numpy arrays via `get_weights()`, and set the state of the model via `set_weights`:"
   ]
  },
  {
   "cell_type": "code",
   "execution_count": 18,
   "metadata": {
    "colab": {},
    "colab_type": "code",
    "id": "B8tHwEvkxw5E"
   },
   "outputs": [],
   "source": [
    "weights = model.get_weights()  # Retrieves the state of the model."
   ]
  },
  {
   "cell_type": "code",
   "execution_count": 13,
   "metadata": {
    "colab": {},
    "colab_type": "code",
    "id": "B8tHwEvkxw5E"
   },
   "outputs": [],
   "source": [
    "model.set_weights(weights)  # Sets the state of the model."
   ]
  },
  {
   "cell_type": "code",
   "execution_count": 20,
   "metadata": {},
   "outputs": [
    {
     "data": {
      "text/plain": [
       "[<tf.Variable 'dense_1/kernel:0' shape=(784, 64) dtype=float32, numpy=\n",
       " array([[-0.0197915 ,  0.04407135, -0.02849477, ..., -0.01787595,\n",
       "          0.05390235,  0.02449428],\n",
       "        [-0.02407024, -0.0617728 ,  0.04737208, ..., -0.02030859,\n",
       "          0.06794772,  0.02484071],\n",
       "        [-0.07552581, -0.05780276,  0.01949557, ...,  0.07633943,\n",
       "         -0.00100404,  0.05841448],\n",
       "        ...,\n",
       "        [ 0.03853467, -0.01230329, -0.00336713, ...,  0.0614162 ,\n",
       "         -0.0297274 ,  0.03600737],\n",
       "        [-0.02102571,  0.03930389, -0.05561911, ..., -0.04564952,\n",
       "         -0.01167739,  0.03246106],\n",
       "        [-0.06948376, -0.02371205, -0.01509621, ...,  0.02714296,\n",
       "         -0.02246682,  0.01668317]], dtype=float32)>,\n",
       " <tf.Variable 'dense_1/bias:0' shape=(64,) dtype=float32, numpy=\n",
       " array([ 0.00542432,  0.01054441,  0.06108382,  0.0909961 , -0.01316357,\n",
       "        -0.02067846,  0.06802321, -0.01805895,  0.07233705,  0.01199558,\n",
       "         0.076688  , -0.01312352,  0.08681895,  0.01403325, -0.01191415,\n",
       "         0.03726333,  0.06995887,  0.09802871, -0.02554992, -0.00502465,\n",
       "        -0.02234578,  0.01907522,  0.03314721,  0.05135911,  0.01399715,\n",
       "         0.01662204,  0.0348056 ,  0.07870728, -0.04536329,  0.05824388,\n",
       "         0.05442402,  0.03586807, -0.03007745,  0.07155883,  0.07513599,\n",
       "         0.06440625,  0.04243872, -0.02065318,  0.10805667,  0.05058009,\n",
       "         0.06008128, -0.02107794,  0.03752087,  0.09567297,  0.00859238,\n",
       "         0.06372106, -0.01511616,  0.07175791, -0.01583684,  0.04342743,\n",
       "        -0.02496524,  0.07983723,  0.01283286,  0.03133091,  0.03640469,\n",
       "         0.00619715, -0.02164194,  0.10668307,  0.08074263, -0.03049122,\n",
       "        -0.00648243,  0.01940982, -0.04915518, -0.05264927], dtype=float32)>,\n",
       " <tf.Variable 'dense_2/kernel:0' shape=(64, 64) dtype=float32, numpy=\n",
       " array([[ 0.18587363, -0.2801939 , -0.19232862, ..., -0.17387989,\n",
       "          0.2934558 ,  0.18053864],\n",
       "        [ 0.00918851, -0.11615471,  0.16205567, ..., -0.14452024,\n",
       "          0.0734117 ,  0.03117489],\n",
       "        [ 0.0980003 ,  0.1553001 , -0.19253118, ...,  0.06518852,\n",
       "         -0.04313211,  0.16065156],\n",
       "        ...,\n",
       "        [ 0.00498411, -0.06742052, -0.18144044, ...,  0.10477687,\n",
       "         -0.1393748 ,  0.10589525],\n",
       "        [ 0.17789072,  0.1605056 ,  0.1938577 , ...,  0.10303956,\n",
       "         -0.23662055, -0.12470689],\n",
       "        [ 0.19691536, -0.20391852, -0.01778234, ..., -0.1597179 ,\n",
       "          0.15313904,  0.15910539]], dtype=float32)>,\n",
       " <tf.Variable 'dense_2/bias:0' shape=(64,) dtype=float32, numpy=\n",
       " array([-0.00272402, -0.03571901, -0.01294109,  0.00373424,  0.0049893 ,\n",
       "        -0.01169728,  0.08627378, -0.00266399, -0.05303524, -0.01006868,\n",
       "         0.06682348, -0.02249229,  0.07145424, -0.04468353,  0.00843736,\n",
       "         0.00109037,  0.08162816,  0.04576759,  0.04193878,  0.03336167,\n",
       "        -0.02890957, -0.01054993,  0.01011269,  0.06498625, -0.0071886 ,\n",
       "         0.0491819 ,  0.00779234,  0.0563793 ,  0.05982599, -0.04335496,\n",
       "         0.11449994,  0.0387298 ,  0.12265263,  0.04673363,  0.01906057,\n",
       "         0.04191888, -0.00399564,  0.01121121, -0.07095539,  0.02579991,\n",
       "         0.11206666, -0.03131015, -0.01014692,  0.05292718,  0.0280483 ,\n",
       "        -0.0167957 , -0.06112086, -0.01436088,  0.01859458, -0.06131899,\n",
       "         0.12618378,  0.08225761,  0.02579244, -0.02025767,  0.04978482,\n",
       "         0.08893509,  0.03528864,  0.0011823 ,  0.07793496,  0.02188835,\n",
       "         0.00903017,  0.04645218,  0.02872655,  0.01506148], dtype=float32)>,\n",
       " <tf.Variable 'predictions/kernel:0' shape=(64, 10) dtype=float32, numpy=\n",
       " array([[ 2.43500948e-01, -1.75936282e-01, -2.07226612e-02,\n",
       "          1.54378653e-01,  1.70496836e-01,  1.43580362e-01,\n",
       "         -2.79303461e-01,  2.47927427e-01,  1.79307573e-02,\n",
       "         -1.96194369e-02],\n",
       "        [-6.44223765e-02, -2.39451583e-02,  1.45534977e-01,\n",
       "          2.43378337e-02, -1.78061530e-01,  1.06613368e-01,\n",
       "         -1.52711257e-01, -2.89185345e-01,  2.95813769e-01,\n",
       "         -3.82144958e-01],\n",
       "        [-2.04106033e-01, -1.56669155e-01, -8.15415531e-02,\n",
       "          2.13184774e-01,  1.14542380e-01, -2.09546015e-01,\n",
       "          5.84355220e-02, -2.26061344e-01, -9.52656865e-02,\n",
       "          1.33266240e-01],\n",
       "        [ 2.00806782e-01,  1.04493566e-01, -2.37471789e-01,\n",
       "         -3.30675617e-02, -6.94468990e-02,  2.74058610e-01,\n",
       "         -2.25907639e-01,  4.99876253e-02,  1.35780931e-01,\n",
       "         -1.81790754e-01],\n",
       "        [-2.16621775e-02, -4.14459929e-02,  8.67462978e-02,\n",
       "         -1.74551323e-01,  2.00353470e-02, -1.74739242e-01,\n",
       "          2.08821580e-01,  2.04287753e-01,  1.60377637e-01,\n",
       "         -2.58933902e-01],\n",
       "        [-2.78583229e-01, -2.09865019e-01, -1.43378660e-01,\n",
       "         -3.31992418e-01,  1.86560363e-01, -2.26640120e-01,\n",
       "          1.43000722e-01,  1.91182002e-01,  1.41252503e-01,\n",
       "          9.45672914e-02],\n",
       "        [-4.77588596e-03,  3.41961741e-01, -1.23396240e-01,\n",
       "         -2.16799572e-01, -1.05579719e-01, -1.78048298e-01,\n",
       "         -3.99701178e-01, -1.73004493e-01, -4.30216998e-01,\n",
       "         -9.56549719e-02],\n",
       "        [ 2.58856177e-01, -4.39238757e-01,  2.29154956e-02,\n",
       "         -1.08674392e-02, -2.59744316e-01, -5.78231029e-02,\n",
       "         -7.91635830e-03, -4.46367972e-02,  1.73278943e-01,\n",
       "         -2.61619449e-01],\n",
       "        [ 1.45116687e-01,  6.43155053e-02, -8.30129236e-02,\n",
       "         -3.78156394e-01,  1.96572751e-01, -2.46871606e-01,\n",
       "          1.91457853e-01, -7.19319424e-03,  1.65997028e-01,\n",
       "          1.50935337e-01],\n",
       "        [-1.69337779e-01,  4.45850603e-02,  2.88188279e-01,\n",
       "         -4.49174792e-02, -3.35831732e-01, -1.93704292e-01,\n",
       "          1.30665526e-01, -1.82723626e-01,  1.01971850e-01,\n",
       "          6.80665970e-02],\n",
       "        [ 2.39164099e-01,  6.91260993e-02, -1.16377227e-01,\n",
       "          1.82511628e-01, -2.71183252e-01,  3.26871693e-01,\n",
       "         -4.46449876e-01,  4.58782259e-03,  1.06544411e-02,\n",
       "          1.23369440e-01],\n",
       "        [-8.14720243e-03, -3.78369093e-02, -2.39906847e-01,\n",
       "         -4.13003743e-01, -2.31709853e-01, -1.47871599e-01,\n",
       "         -1.27431080e-01, -2.35155985e-01,  2.00769454e-01,\n",
       "          2.16141101e-02],\n",
       "        [-3.24716300e-01,  3.08341503e-01, -3.17253947e-01,\n",
       "          1.80661485e-01,  1.49872735e-01,  3.04974943e-01,\n",
       "          1.02269441e-01,  1.06046051e-01,  1.56211495e-01,\n",
       "         -3.08072805e-01],\n",
       "        [ 2.74162114e-01, -6.11626245e-02, -1.07131451e-01,\n",
       "         -3.63950878e-01,  1.73574150e-01, -4.01158720e-01,\n",
       "          3.66357826e-02, -2.34989226e-01, -3.72870974e-02,\n",
       "         -4.12544273e-02],\n",
       "        [-2.44052649e-01, -3.08491200e-01, -2.31160745e-01,\n",
       "          1.25982940e-01,  2.01603755e-01,  3.55012774e-01,\n",
       "         -1.96657985e-01,  2.45565355e-01, -3.24174404e-01,\n",
       "         -4.91779037e-02],\n",
       "        [-2.45877430e-01, -1.18479483e-01, -1.69577137e-01,\n",
       "         -2.65076637e-01, -2.79978752e-01,  2.25998133e-01,\n",
       "         -1.40126452e-01,  1.98918611e-01, -5.75555973e-02,\n",
       "         -1.89560592e-01],\n",
       "        [-3.48598540e-01, -2.17988849e-01, -4.20843571e-01,\n",
       "          2.27642357e-02,  2.35827893e-01,  3.17714155e-01,\n",
       "         -1.87035456e-01, -2.95956761e-01, -1.92362629e-02,\n",
       "         -1.34179503e-01],\n",
       "        [ 9.39063951e-02, -4.09672022e-01, -6.20788671e-02,\n",
       "         -7.15937987e-02, -1.01281673e-01,  1.18766621e-01,\n",
       "         -3.62903118e-01,  1.29047647e-01,  7.26620257e-02,\n",
       "          2.06838310e-01],\n",
       "        [-2.37763688e-01,  1.68016970e-01, -1.61440119e-01,\n",
       "          1.68457270e-01, -9.83661488e-02, -3.46869938e-02,\n",
       "         -2.78426945e-01,  2.42622346e-01, -1.15064740e-01,\n",
       "          2.50250608e-01],\n",
       "        [-1.84176877e-01, -1.35385379e-01,  1.23063534e-01,\n",
       "          5.74695170e-02, -3.81767750e-01, -1.92372218e-01,\n",
       "         -2.23463491e-01,  1.80243239e-01, -2.32590660e-01,\n",
       "         -4.46997017e-01],\n",
       "        [-3.38761091e-01, -2.28658274e-01,  2.81452507e-01,\n",
       "          2.46855974e-01, -3.10967490e-02, -2.18543351e-01,\n",
       "          1.26540199e-01, -3.52386802e-01,  8.67125615e-02,\n",
       "         -2.86266923e-01],\n",
       "        [ 7.28175864e-02, -1.24848612e-01,  3.29643488e-01,\n",
       "          1.67398512e-01, -1.62589967e-01, -2.79205322e-01,\n",
       "         -2.86366194e-01, -2.89592355e-01, -3.10505271e-01,\n",
       "         -2.76619315e-01],\n",
       "        [-3.40417802e-01,  1.51272550e-01, -2.12114245e-01,\n",
       "         -1.28490373e-01, -1.21634923e-01, -2.63976961e-01,\n",
       "          3.19736421e-01, -2.49633923e-01, -1.12163275e-01,\n",
       "          2.46492773e-01],\n",
       "        [-1.56610634e-03, -4.19869870e-01,  2.47539133e-01,\n",
       "         -3.30399387e-02,  2.09294692e-01,  8.85428414e-02,\n",
       "         -1.73204690e-01,  6.20960295e-02, -2.61065345e-02,\n",
       "         -7.88461342e-02],\n",
       "        [-2.34985158e-01, -3.73506993e-01, -2.61357188e-01,\n",
       "          1.38302758e-01, -2.02680200e-01, -2.24540561e-01,\n",
       "          2.61064917e-01,  2.29310662e-01, -1.16093867e-01,\n",
       "          3.16060960e-01],\n",
       "        [ 6.66525587e-02,  2.72909105e-01,  6.37841448e-02,\n",
       "          1.65529326e-01, -1.61466271e-01,  7.98781663e-02,\n",
       "          3.21937352e-01, -3.88921112e-01,  1.45869181e-02,\n",
       "         -1.95554048e-01],\n",
       "        [-3.63124609e-01,  3.28489318e-02,  2.71380991e-01,\n",
       "         -3.81588221e-01,  1.93165034e-01, -1.25316400e-02,\n",
       "          1.03657134e-01, -1.29307956e-01,  2.80015081e-01,\n",
       "          1.83568224e-01],\n",
       "        [ 1.25444904e-01,  1.60102442e-01, -1.34704798e-01,\n",
       "         -2.79372245e-01, -1.51707232e-01,  1.47169381e-01,\n",
       "         -2.68375874e-01,  3.28667343e-01,  1.64555341e-01,\n",
       "         -2.49147210e-02],\n",
       "        [-2.36572295e-01,  1.05297789e-01, -4.08665882e-03,\n",
       "         -1.02653094e-01,  2.35058948e-01, -4.22132850e-01,\n",
       "          2.97245294e-01,  2.23809361e-01, -2.78739393e-01,\n",
       "         -3.41973811e-01],\n",
       "        [-4.82789315e-02, -2.64905836e-03,  3.09288129e-02,\n",
       "          2.15185955e-01, -1.19246215e-01, -2.36425787e-01,\n",
       "         -3.13040793e-01, -3.00168246e-01, -6.08631037e-02,\n",
       "         -3.85093719e-01],\n",
       "        [-3.55943590e-01,  3.17080587e-01, -7.62085766e-02,\n",
       "         -1.67022012e-02,  1.14097513e-01,  2.81741202e-01,\n",
       "         -1.40501991e-01, -7.15249628e-02,  1.28662631e-01,\n",
       "         -3.50207649e-02],\n",
       "        [ 1.11864045e-01,  2.25693822e-01, -3.57746370e-02,\n",
       "         -1.24773279e-01, -2.63935596e-01, -8.15324411e-02,\n",
       "         -3.35345775e-01,  2.06727192e-01, -1.14273287e-01,\n",
       "          9.54800993e-02],\n",
       "        [-2.09056512e-01, -9.51708779e-02, -2.88982332e-01,\n",
       "         -2.61891276e-01,  2.18376264e-01,  3.07529479e-01,\n",
       "          6.71914741e-02,  3.13587457e-01,  6.42501190e-02,\n",
       "          2.04890653e-01],\n",
       "        [-3.36343974e-01,  1.74322189e-03, -7.36493021e-02,\n",
       "          2.95739114e-01,  3.29144329e-01, -1.63246661e-01,\n",
       "         -7.31396973e-02,  2.73221821e-01, -1.99506640e-01,\n",
       "         -6.14483729e-02],\n",
       "        [ 1.61376610e-01,  1.17764555e-01, -3.11275329e-02,\n",
       "          1.85264498e-01, -2.12813786e-04, -3.61712314e-02,\n",
       "         -4.17880177e-01,  3.07098329e-01,  2.88802981e-01,\n",
       "         -2.96897560e-01],\n",
       "        [ 2.03250632e-01, -3.50865960e-01, -3.63783017e-02,\n",
       "         -1.66870318e-02, -2.34222397e-01,  2.81105995e-01,\n",
       "         -7.68438131e-02, -3.78242224e-01, -9.39213764e-03,\n",
       "         -2.78307289e-01],\n",
       "        [-2.07875609e-01, -3.05466563e-01, -3.02744508e-01,\n",
       "          4.81985956e-02, -7.88928568e-02, -2.77772844e-01,\n",
       "         -5.10635599e-02, -1.91395596e-01, -1.86945423e-01,\n",
       "          2.88881570e-01],\n",
       "        [-4.16426301e-01, -2.41572693e-01, -2.36361876e-01,\n",
       "          1.78652555e-01,  2.16774657e-01, -2.12434679e-02,\n",
       "         -2.63946265e-01, -3.16832036e-01, -3.55586559e-01,\n",
       "          2.46748999e-01],\n",
       "        [ 4.70250547e-02, -2.66835541e-01,  2.13095561e-01,\n",
       "         -1.67424127e-01,  1.23936489e-01, -3.33544761e-01,\n",
       "         -1.56130465e-02, -1.66601777e-01,  7.27348626e-02,\n",
       "         -1.90087557e-01],\n",
       "        [-1.96188912e-01,  3.09736788e-01,  2.54888892e-01,\n",
       "         -1.41031332e-02, -1.74193442e-01, -2.09055334e-01,\n",
       "         -2.52189606e-01, -2.11035997e-01, -1.68462262e-01,\n",
       "          3.04221883e-02],\n",
       "        [-1.23294428e-01, -1.60605386e-02,  2.44035617e-01,\n",
       "          1.35545328e-01,  2.21571982e-01,  2.01306522e-01,\n",
       "         -3.49383652e-01,  3.34275693e-01, -2.23799065e-01,\n",
       "          6.51850738e-03],\n",
       "        [ 5.68220876e-02, -2.45970204e-01, -2.21708585e-02,\n",
       "          2.42322221e-01,  5.19098863e-02,  2.33293653e-01,\n",
       "          1.13214754e-01, -2.06633762e-01,  3.35262924e-01,\n",
       "          2.70358045e-02],\n",
       "        [ 6.42543808e-02, -4.65648547e-02, -1.28150478e-01,\n",
       "         -8.04784670e-02, -4.43618625e-01, -6.62131682e-02,\n",
       "         -2.70766914e-01, -1.47908717e-01,  1.09831847e-01,\n",
       "         -2.71040350e-01],\n",
       "        [-1.42011896e-01,  2.56500274e-01,  4.19989713e-02,\n",
       "         -2.73486197e-01, -2.63189435e-01, -3.42417918e-02,\n",
       "          3.37826222e-01, -3.03763412e-02,  4.08104360e-02,\n",
       "         -2.21720964e-01],\n",
       "        [-3.32002938e-01, -3.39696258e-01, -3.78692895e-01,\n",
       "         -1.30914271e-01,  3.35336983e-01, -1.98228359e-01,\n",
       "         -3.04988176e-01, -5.72022833e-02, -2.06092224e-01,\n",
       "          6.61915988e-02],\n",
       "        [-4.31151278e-02, -1.27640918e-01,  2.05492713e-02,\n",
       "         -3.06104273e-01,  4.84237038e-02, -2.44151503e-01,\n",
       "          3.49290282e-01, -2.85729766e-01,  6.51268139e-02,\n",
       "          1.47978246e-01],\n",
       "        [-1.50314141e-02,  1.15251631e-01, -3.56554270e-01,\n",
       "          9.13646594e-02,  3.03890526e-01, -2.20059961e-01,\n",
       "          1.37207553e-01, -3.75323325e-01,  2.63013691e-01,\n",
       "          2.85152793e-01],\n",
       "        [-2.67706871e-01, -1.79216072e-01,  7.97807332e-03,\n",
       "         -7.83524141e-02, -2.36120582e-01, -1.84993356e-01,\n",
       "         -4.30235177e-01,  2.59555936e-01,  1.88540280e-01,\n",
       "          1.88316584e-01],\n",
       "        [-1.81230173e-01,  3.11792314e-01, -4.47359860e-01,\n",
       "          1.74353078e-01,  3.60278226e-02, -2.75215328e-01,\n",
       "          1.55187100e-01,  9.81297269e-02, -1.65033609e-01,\n",
       "          2.72756904e-01],\n",
       "        [-8.08433071e-02, -3.60867918e-01, -2.40851536e-01,\n",
       "         -1.15352996e-01, -8.06926712e-02, -3.19810092e-01,\n",
       "         -8.87970701e-02, -1.01108305e-01,  2.73112088e-01,\n",
       "          2.65589714e-01],\n",
       "        [ 1.77752748e-01,  1.36105806e-01,  1.33070543e-01,\n",
       "         -2.05453843e-01, -1.10427372e-01,  5.00842296e-02,\n",
       "          9.32725072e-02,  5.69472201e-02, -3.15737247e-01,\n",
       "         -2.08071098e-01],\n",
       "        [ 1.49012282e-01, -2.15740025e-01, -2.18508273e-01,\n",
       "         -3.72401237e-01,  3.33109200e-01,  1.36619896e-01,\n",
       "          6.99136630e-02, -2.10934147e-01, -2.81289548e-01,\n",
       "          3.33326012e-02],\n",
       "        [ 3.43413562e-01, -3.77017736e-01,  2.00896934e-01,\n",
       "         -7.07253739e-02,  4.45667841e-02,  2.54268080e-01,\n",
       "          9.13652927e-02, -2.42406264e-01,  6.36677518e-02,\n",
       "          1.86475441e-01],\n",
       "        [ 3.42229158e-02, -6.03009239e-02, -1.05430126e-01,\n",
       "          8.67203400e-02,  1.32489219e-01,  1.33585945e-01,\n",
       "         -2.25500524e-01,  2.58825958e-01,  2.49709532e-01,\n",
       "         -2.13196576e-02],\n",
       "        [-1.30963214e-02,  1.42489165e-01, -3.93235207e-01,\n",
       "          1.12386912e-01,  1.22495480e-01,  1.73940897e-01,\n",
       "          3.43461156e-01, -1.59391925e-01, -2.90895011e-02,\n",
       "         -1.76670682e-02],\n",
       "        [-1.88603878e-01, -1.83186859e-01,  1.47825219e-02,\n",
       "         -2.54032046e-01,  1.05431266e-01,  1.33377716e-01,\n",
       "         -2.65699416e-01,  1.22564256e-01, -3.22195888e-01,\n",
       "         -3.14768374e-01],\n",
       "        [-3.45850945e-01,  1.36467233e-01,  2.66261399e-01,\n",
       "          5.17119467e-02, -1.06812969e-01, -3.35246384e-01,\n",
       "          6.23900816e-02,  2.85393775e-01, -7.69136548e-02,\n",
       "         -1.71548903e-01],\n",
       "        [-3.80701721e-01,  4.52242382e-02, -1.80516720e-01,\n",
       "          5.98629639e-02,  1.91680148e-01, -5.45415357e-02,\n",
       "         -4.13855880e-01, -3.77280205e-01,  6.90796971e-02,\n",
       "          1.00409873e-01],\n",
       "        [ 1.89289935e-02, -2.16085047e-01,  6.51053041e-02,\n",
       "         -3.12287956e-01, -3.28906149e-01,  3.14437121e-01,\n",
       "          2.10330188e-01, -1.11269847e-01, -2.97864944e-01,\n",
       "          1.62387431e-01],\n",
       "        [ 1.17726311e-01, -4.33020115e-01, -1.19296990e-01,\n",
       "          3.06999475e-01, -4.69508588e-01, -2.36531049e-02,\n",
       "         -2.26455346e-01, -2.76702732e-01, -1.99803740e-01,\n",
       "         -1.95949644e-01],\n",
       "        [-1.77126974e-01, -3.80380563e-02, -2.77891606e-01,\n",
       "         -1.42799407e-01, -1.57521173e-01, -1.34639099e-01,\n",
       "          2.12947771e-01, -3.45040590e-01, -2.14798167e-01,\n",
       "         -1.08871683e-01],\n",
       "        [ 1.56782284e-01, -2.38041162e-01, -4.51920033e-01,\n",
       "         -1.87614128e-01, -9.20707360e-02,  4.05311644e-01,\n",
       "          3.00833672e-01, -1.39124185e-01, -2.22211093e-01,\n",
       "          2.19199881e-01],\n",
       "        [ 3.82899456e-02, -1.31686190e-02, -3.35803181e-01,\n",
       "          2.47424766e-01, -2.08181515e-01, -6.15621805e-02,\n",
       "          1.32162794e-01,  1.06440283e-01, -2.83628821e-01,\n",
       "         -2.82479487e-02],\n",
       "        [ 3.36132467e-01, -1.31297141e-01,  4.14241925e-02,\n",
       "          2.87272483e-01, -3.03042531e-01, -1.04240783e-01,\n",
       "         -9.67816934e-02,  3.40714663e-01, -1.19405098e-01,\n",
       "          1.21210301e-02]], dtype=float32)>,\n",
       " <tf.Variable 'predictions/bias:0' shape=(10,) dtype=float32, numpy=\n",
       " array([-0.04535215,  0.03926314,  0.03989524, -0.04610238, -0.01492953,\n",
       "         0.10549975, -0.00127685,  0.05784173, -0.09914798, -0.02819403],\n",
       "       dtype=float32)>]"
      ]
     },
     "execution_count": 20,
     "metadata": {},
     "output_type": "execute_result"
    }
   ],
   "source": [
    "model.weights"
   ]
  },
  {
   "cell_type": "markdown",
   "metadata": {
    "colab_type": "text",
    "id": "Ydwtw-u2x7xC"
   },
   "source": [
    "You can combine `get_config()`/`from_config()` and `get_weights()`/`set_weights()` to recreate your model in the same state. However, unlike `model.save()`, this will not include the training config and the optimizer. You would have to call `compile()` again before using the model for training."
   ]
  },
  {
   "cell_type": "code",
   "execution_count": 14,
   "metadata": {
    "colab": {},
    "colab_type": "code",
    "id": "LWVtuxtrx5lb"
   },
   "outputs": [],
   "source": [
    "config = model.get_config()\n",
    "weights = model.get_weights()\n",
    "\n",
    "new_model = keras.Model.from_config(config)\n",
    "new_model.set_weights(weights)\n",
    "\n",
    "# Check that the state is preserved\n",
    "new_predictions = new_model.predict(x_test)\n",
    "np.testing.assert_allclose(predictions, new_predictions, rtol = 1e-6, atol = 1e-6)\n",
    "\n",
    "# Note that the optimizer was not preserved,\n",
    "# so the model should be compiled anew before training\n",
    "# (and the optimizer will start from a blank state)"
   ]
  },
  {
   "cell_type": "markdown",
   "metadata": {
    "colab_type": "text",
    "id": "prk0GzwCyIYy"
   },
   "source": [
    "The save-to-disk alternative to `get_weights()` and `set_weights(weights)`\n",
    "is `save_weights(fpath)` and `load_weights(fpath)`.\n",
    "\n",
    "Here's an example that saves to disk:"
   ]
  },
  {
   "cell_type": "code",
   "execution_count": 11,
   "metadata": {
    "colab": {},
    "colab_type": "code",
    "id": "2irLnOUbyHlI"
   },
   "outputs": [],
   "source": [
    "# Save JSON config to disk\n",
    "json_config = model.to_json()\n",
    "with open('model_config.json', 'w') as json_file:\n",
    "    json_file.write(json_config)\n",
    "# Save weights to disk\n",
    "model.save_weights('path_to_my_weights.h5')\n",
    "\n",
    "# Reload the model from the 2 files we saved\n",
    "with open('model_config.json') as json_file:\n",
    "    json_config = json_file.read()\n",
    "new_model = keras.models.model_from_json(json_config)\n",
    "new_model.load_weights('path_to_my_weights.h5')\n",
    "\n",
    "# Check that the state is preserved\n",
    "new_predictions = new_model.predict(x_test)\n",
    "np.testing.assert_allclose(predictions, new_predictions, rtol = 1e-6, atol = 1e-6)\n",
    "\n",
    "# Note that the optimizer was not preserved."
   ]
  },
  {
   "cell_type": "markdown",
   "metadata": {
    "colab_type": "text",
    "id": "KBxcFAPHyYi5"
   },
   "source": [
    "But remember that the simplest, recommended way is just this:"
   ]
  },
  {
   "cell_type": "code",
   "execution_count": 12,
   "metadata": {
    "colab": {},
    "colab_type": "code",
    "id": "DE4b3ndNyQh3"
   },
   "outputs": [],
   "source": [
    "model.save('path_to_my_model.h5')\n",
    "del model\n",
    "model = keras.models.load_model('path_to_my_model.h5')"
   ]
  },
  {
   "cell_type": "markdown",
   "metadata": {
    "colab_type": "text",
    "id": "yKikmbdC3O_i"
   },
   "source": [
    "### Weights-only saving using TensorFlow checkpoints\n",
    "\n",
    "Note that `save_weights` can create files either in the Keras HDF5 format,\n",
    "or in the [TensorFlow Checkpoint format](https://www.tensorflow.org/api_docs/python/tf/train/Checkpoint). The format is inferred from the file extension you provide: if it is \".h5\" or \".keras\", the framework uses the Keras HDF5 format. Anything else defaults to Checkpoint."
   ]
  },
  {
   "cell_type": "code",
   "execution_count": 13,
   "metadata": {
    "colab": {},
    "colab_type": "code",
    "id": "0pYKb6LV3h2l"
   },
   "outputs": [],
   "source": [
    "model.save_weights('path_to_my_tf_checkpoint')"
   ]
  },
  {
   "cell_type": "markdown",
   "metadata": {
    "colab_type": "text",
    "id": "ZFwKv6JC3kyu"
   },
   "source": [
    "For total explicitness, the format can be explicitly passed via the `save_format` argument, which can take the value \"tf\" or \"h5\":"
   ]
  },
  {
   "cell_type": "code",
   "execution_count": 14,
   "metadata": {
    "colab": {},
    "colab_type": "code",
    "id": "oN9vOaWU34lA"
   },
   "outputs": [],
   "source": [
    "model.save_weights('path_to_my_tf_checkpoint', save_format='tf')"
   ]
  },
  {
   "cell_type": "markdown",
   "metadata": {
    "colab_type": "text",
    "id": "xXgtNRCSyuIW"
   },
   "source": [
    "## Saving Subclassed Models"
   ]
  },
  {
   "cell_type": "markdown",
   "metadata": {
    "colab_type": "text",
    "id": "mJqOn0snzCRy"
   },
   "source": [
    "Sequential models and Functional models are datastructures that represent a DAG of layers. As such,\n",
    "they can be safely serialized and deserialized.\n",
    "\n",
    "A subclassed model differs in that it's not a datastructure, it's a piece of code. The architecture of the model\n",
    "is defined via the body of the `call` method. This means that the architecture of the model cannot be safely serialized. To load a model, you'll need to have access to the code that created it (the code of the model subclass). Alternatively, you could be serializing this code as bytecode (e.g. via pickling), but that's unsafe and generally not portable.\n",
    "\n",
    "For more information about these differences, see the article [\"What are Symbolic and Imperative APIs in TensorFlow 2.0?\"](https://medium.com/tensorflow/what-are-symbolic-and-imperative-apis-in-tensorflow-2-0-dfccecb01021)."
   ]
  },
  {
   "cell_type": "markdown",
   "metadata": {
    "colab_type": "text",
    "id": "Pkwyu5dVz12P"
   },
   "source": [
    "Let's consider the following subclassed model, which follows the same structure as the model from the first section:"
   ]
  },
  {
   "cell_type": "code",
   "execution_count": 15,
   "metadata": {
    "colab": {},
    "colab_type": "code",
    "id": "4Onp-8rGyeQG"
   },
   "outputs": [],
   "source": [
    "class ThreeLayerMLP(keras.Model):\n",
    "\n",
    "    def __init__(self, name = None):\n",
    "        super(ThreeLayerMLP, self).__init__(name=name)\n",
    "        self.dense_1 = layers.Dense(64, activation = 'relu', name = 'dense_1')\n",
    "        self.dense_2 = layers.Dense(64, activation = 'relu', name = 'dense_2')\n",
    "        self.pred_layer = layers.Dense(10, activation = 'softmax', name = 'predictions')\n",
    "\n",
    "    def call(self, inputs):\n",
    "        x = self.dense_1(inputs)\n",
    "        x = self.dense_2(x)\n",
    "        return self.pred_layer(x)\n",
    "\n",
    "def get_model():\n",
    "    return ThreeLayerMLP(name = '3_layer_mlp')\n",
    "\n",
    "model = get_model()"
   ]
  },
  {
   "cell_type": "markdown",
   "metadata": {
    "colab_type": "text",
    "id": "wwT_YoKA0yQW"
   },
   "source": [
    "First of all, *a subclassed model that has never been used cannot be saved*.\n",
    "\n",
    "That's because a subclassed model needs to be called on some data in order to create its weights.\n",
    "\n",
    "Until the model has been called, it does not know the shape and dtype of the input data it should be\n",
    "expecting, and thus cannot create its weight variables. You may remember that in the Functional model from the first section, the shape and dtype of the inputs was specified in advance (via `keras.Input(...)`) -- that's why Functional models have a state as soon as they're instantiated.\n",
    "\n",
    "Let's train the model, so as to give it a state:"
   ]
  },
  {
   "cell_type": "code",
   "execution_count": 16,
   "metadata": {
    "colab": {},
    "colab_type": "code",
    "id": "xqP4kIFN0fTZ"
   },
   "outputs": [
    {
     "name": "stdout",
     "output_type": "stream",
     "text": [
      "Train on 60000 samples\n",
      "60000/60000 [==============================] - 2s 31us/sample - loss: 0.3047\n"
     ]
    }
   ],
   "source": [
    "(x_train, y_train), (x_test, y_test) = keras.datasets.mnist.load_data()\n",
    "x_train = x_train.reshape(60000, 784).astype('float32') / 255\n",
    "x_test = x_test.reshape(10000, 784).astype('float32') / 255\n",
    "\n",
    "model.compile(loss='sparse_categorical_crossentropy',\n",
    "              optimizer=keras.optimizers.RMSprop())\n",
    "history = model.fit(x_train, y_train,\n",
    "                    batch_size=64,\n",
    "                    epochs=1)"
   ]
  },
  {
   "cell_type": "markdown",
   "metadata": {
    "colab_type": "text",
    "id": "rvGCpyX72HOC"
   },
   "source": [
    "The recommended way to save a subclassed model is to use `save_weights` to create a TensorFlow SavedModel checkpoint, which will contain the value of all variables associated with the model:\n",
    "- The layers' weights\n",
    "- The optimizer's state\n",
    "- Any variables associated with stateful model metrics (if any)\n",
    "\n"
   ]
  },
  {
   "cell_type": "code",
   "execution_count": 17,
   "metadata": {
    "colab": {},
    "colab_type": "code",
    "id": "gMg87Tz01cxQ"
   },
   "outputs": [],
   "source": [
    "model.save_weights('path_to_my_weights', save_format='tf')"
   ]
  },
  {
   "cell_type": "code",
   "execution_count": 18,
   "metadata": {
    "colab": {},
    "colab_type": "code",
    "id": "KOKNBojtsl0F"
   },
   "outputs": [
    {
     "name": "stdout",
     "output_type": "stream",
     "text": [
      "WARNING:tensorflow:From C:\\Users\\pc\\Anaconda3\\envs\\tf2.0-gpu\\lib\\site-packages\\tensorflow_core\\python\\ops\\math_grad.py:1394: where (from tensorflow.python.ops.array_ops) is deprecated and will be removed in a future version.\n",
      "Instructions for updating:\n",
      "Use tf.where in 2.0, which has the same broadcast rule as np.where\n"
     ]
    }
   ],
   "source": [
    "# Save predictions for future checks\n",
    "predictions = model.predict(x_test)\n",
    "# Also save the loss on the first batch\n",
    "# to later assert that the optimizer state was preserved\n",
    "first_batch_loss = model.train_on_batch(x_train[:64], y_train[:64])"
   ]
  },
  {
   "cell_type": "markdown",
   "metadata": {
    "colab_type": "text",
    "id": "h2PM_PL1SzPo"
   },
   "source": [
    "To restore your model, you will need access to the code that created the model object.\n",
    "\n",
    "Note that in order to restore the optimizer state and the state of any stateful  metric, you should\n",
    "compile the model (with the exact same arguments as before) and call it on some data before calling `load_weights`:"
   ]
  },
  {
   "cell_type": "code",
   "execution_count": 21,
   "metadata": {
    "colab": {},
    "colab_type": "code",
    "id": "OOSGiSkHTERy"
   },
   "outputs": [],
   "source": [
    "# Recreate the model\n",
    "new_model = get_model()\n",
    "new_model.compile(loss = 'sparse_categorical_crossentropy',\n",
    "                  optimizer = keras.optimizers.RMSprop())\n",
    "\n",
    "# This initializes the variables used by the optimizers,\n",
    "# as well as any stateful metric variables\n",
    "new_model.train_on_batch(x_train[:1], y_train[:1])\n",
    "\n",
    "# Load the state of the old model\n",
    "new_model.load_weights('path_to_my_weights')\n",
    "\n",
    "# Check that the model state has been preserved\n",
    "new_predictions = new_model.predict(x_test)\n",
    "np.testing.assert_allclose(predictions, new_predictions, rtol = 1e-6, atol = 1e-6)\n",
    "\n",
    "# The optimizer state is preserved as well,\n",
    "# so you can resume training where you left off\n",
    "new_first_batch_loss = new_model.train_on_batch(x_train[:64], y_train[:64])\n",
    "assert first_batch_loss == new_first_batch_loss"
   ]
  },
  {
   "cell_type": "markdown",
   "metadata": {
    "colab_type": "text",
    "id": "2_XaE5Oqv7Rh"
   },
   "source": [
    "You've reached the end of this guide! This covers everything you need to know about saving and serializing models with tf.keras in TensorFlow 2.0."
   ]
  }
 ],
 "metadata": {
  "colab": {
   "collapsed_sections": [],
   "name": "save_and_serialize.ipynb",
   "private_outputs": true,
   "provenance": [],
   "toc_visible": true
  },
  "kernelspec": {
   "display_name": "Python 3",
   "language": "python",
   "name": "python3"
  },
  "language_info": {
   "codemirror_mode": {
    "name": "ipython",
    "version": 3
   },
   "file_extension": ".py",
   "mimetype": "text/x-python",
   "name": "python",
   "nbconvert_exporter": "python",
   "pygments_lexer": "ipython3",
   "version": "3.7.6"
  }
 },
 "nbformat": 4,
 "nbformat_minor": 1
}

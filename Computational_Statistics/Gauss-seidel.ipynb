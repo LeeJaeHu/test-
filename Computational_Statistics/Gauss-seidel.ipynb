{
 "cells": [
  {
   "cell_type": "code",
   "execution_count": 1,
   "metadata": {},
   "outputs": [],
   "source": [
    "import numpy as np"
   ]
  },
  {
   "cell_type": "code",
   "execution_count": 20,
   "metadata": {},
   "outputs": [],
   "source": [
    "def Gaussseidelmethod(A,b,x0,e,nmax):\n",
    "    n = A.shape[0]\n",
    "    xk = np.zeros(n)\n",
    "    for k in range(1,nmax):\n",
    "        #xk[0] = -sum([A[0,j]/A[0,0]*x0[j] for j in range(1,n)]) + b[0]/A[0,0]\n",
    "        for i in range(n):\n",
    "            xk[i] = -sum([A[i,j]/A[i,i]*xk[j] for j in range(n) if j<i]) -sum([A[i,j]/A[i,i]*x0[j] for j in range(n) if j>i]) + b[i]/A[i,i]\n",
    "        print(xk)\n",
    "        print(x0)\n",
    "        if sum((xk-x0)**2)**(1/2) <= e:\n",
    "            print(\"{}th convergence\".format(k))\n",
    "            return xk, x0\n",
    "        x0 = xk.copy()\n",
    "    print(x0,xk,\"moham?\")\n",
    "    return\n",
    "    "
   ]
  },
  {
   "cell_type": "code",
   "execution_count": 22,
   "metadata": {},
   "outputs": [],
   "source": [
    "A = np.matrix([[11,2,3],[4,51,6],[7,8,11]])\n",
    "b = np.ones(3)\n",
    "x0 = np.ones(3)"
   ]
  },
  {
   "cell_type": "code",
   "execution_count": 23,
   "metadata": {},
   "outputs": [
    {
     "name": "stdout",
     "output_type": "stream",
     "text": [
      "[-0.36363636 -0.06951872  0.37287312]\n",
      "[1. 1. 1.]\n",
      "[ 0.00185619 -0.02440517  0.10747709]\n",
      "[-0.36363636 -0.06951872  0.37287312]\n",
      "[0.06603446 0.00178431 0.04758948]\n",
      "[ 0.00185619 -0.02440517  0.10747709]\n",
      "[0.07760572 0.00792236 0.03576192]\n",
      "[0.06603446 0.00178431 0.04758948]\n",
      "[0.07971541 0.00914837 0.03352774]\n",
      "[0.07760572 0.00792236 0.03576192]\n",
      "[0.08010182 0.00938091 0.03311273]\n",
      "[0.07971541 0.00914837 0.03352774]\n",
      "6th convergence\n"
     ]
    },
    {
     "data": {
      "text/plain": [
       "(array([0.08010182, 0.00938091, 0.03311273]),\n",
       " array([0.07971541, 0.00914837, 0.03352774]))"
      ]
     },
     "execution_count": 23,
     "metadata": {},
     "output_type": "execute_result"
    }
   ],
   "source": [
    "Gaussseidelmethod(A,b,x0,0.001,100)"
   ]
  },
  {
   "cell_type": "code",
   "execution_count": 24,
   "metadata": {},
   "outputs": [
    {
     "name": "stdout",
     "output_type": "stream",
     "text": [
      "[-0.36363636 -0.06951872  0.37287312]\n",
      "[1. 1. 1.]\n",
      "[ 0.00185619 -0.02440517  0.10747709]\n",
      "[-0.36363636 -0.06951872  0.37287312]\n",
      "[0.06603446 0.00178431 0.04758948]\n",
      "[ 0.00185619 -0.02440517  0.10747709]\n",
      "[0.07760572 0.00792236 0.03576192]\n",
      "[0.06603446 0.00178431 0.04758948]\n",
      "[0.07971541 0.00914837 0.03352774]\n",
      "[0.07760572 0.00792236 0.03576192]\n",
      "[0.08010182 0.00938091 0.03311273]\n",
      "[0.07971541 0.00914837 0.03352774]\n",
      "6th convergence\n"
     ]
    },
    {
     "data": {
      "text/plain": [
       "matrix([[0.99922003, 0.99750991, 1.        ]])"
      ]
     },
     "execution_count": 24,
     "metadata": {},
     "output_type": "execute_result"
    }
   ],
   "source": [
    "A.dot(Gaussseidelmethod(A,b,x0,0.001,100)[0])"
   ]
  },
  {
   "cell_type": "code",
   "execution_count": null,
   "metadata": {},
   "outputs": [],
   "source": []
  }
 ],
 "metadata": {
  "kernelspec": {
   "display_name": "Python 3",
   "language": "python",
   "name": "python3"
  },
  "language_info": {
   "codemirror_mode": {
    "name": "ipython",
    "version": 3
   },
   "file_extension": ".py",
   "mimetype": "text/x-python",
   "name": "python",
   "nbconvert_exporter": "python",
   "pygments_lexer": "ipython3",
   "version": "3.7.6"
  }
 },
 "nbformat": 4,
 "nbformat_minor": 4
}

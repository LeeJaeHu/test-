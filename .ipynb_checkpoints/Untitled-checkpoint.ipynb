{
 "cells": [
  {
   "cell_type": "code",
   "execution_count": 1,
   "metadata": {},
   "outputs": [],
   "source": [
    "from __future__ import absolute_import, division, print_function, unicode_literals\n",
    "import numpy as np"
   ]
  },
  {
   "cell_type": "code",
   "execution_count": 4,
   "metadata": {},
   "outputs": [],
   "source": [
    "import tensorflow as tf"
   ]
  },
  {
   "cell_type": "code",
   "execution_count": 8,
   "metadata": {},
   "outputs": [
    {
     "name": "stdout",
     "output_type": "stream",
     "text": [
      "WARNING:tensorflow:Entity <function simple_nn_layer at 0x000002D3D33C6828> could not be transformed and will be executed as-is. Please report this to the AutoGraph team. When filing the bug, set the verbosity to 10 (on Linux, `export AUTOGRAPH_VERBOSITY=10`) and attach the full output. Cause: converting <function simple_nn_layer at 0x000002D3D33C6828>: AssertionError: Bad argument number for Name: 3, expecting 4\n",
      "WARNING: Entity <function simple_nn_layer at 0x000002D3D33C6828> could not be transformed and will be executed as-is. Please report this to the AutoGraph team. When filing the bug, set the verbosity to 10 (on Linux, `export AUTOGRAPH_VERBOSITY=10`) and attach the full output. Cause: converting <function simple_nn_layer at 0x000002D3D33C6828>: AssertionError: Bad argument number for Name: 3, expecting 4\n"
     ]
    },
    {
     "data": {
      "text/plain": [
       "<tf.Tensor: id=71, shape=(3, 3), dtype=float32, numpy=\n",
       "array([[0.43322676, 0.24944767, 0.686664  ],\n",
       "       [0.99607766, 0.55684304, 1.4380826 ],\n",
       "       [0.56760937, 0.2688859 , 0.67785704]], dtype=float32)>"
      ]
     },
     "execution_count": 8,
     "metadata": {},
     "output_type": "execute_result"
    }
   ],
   "source": [
    "@tf.function\n",
    "def simple_nn_layer(x, y):\n",
    "  return tf.nn.relu(tf.matmul(x, y))\n",
    "\n",
    "\n",
    "x = tf.random.uniform((3, 3))\n",
    "y = tf.random.uniform((3, 3))\n",
    "\n",
    "simple_nn_layer(x, y)"
   ]
  },
  {
   "cell_type": "code",
   "execution_count": 7,
   "metadata": {},
   "outputs": [
    {
     "name": "stdout",
     "output_type": "stream",
     "text": [
      "Requirement already up-to-date: gast==0.2.2 in c:\\users\\pc\\anaconda3\\envs\\tf2.0-gpu\\lib\\site-packages (0.2.2)\n"
     ]
    },
    {
     "name": "stderr",
     "output_type": "stream",
     "text": [
      "WARNING: pip is being invoked by an old script wrapper. This will fail in a future version of pip.\n",
      "Please see https://github.com/pypa/pip/issues/5599 for advice on fixing the underlying issue.\n",
      "To avoid this problem you can invoke Python with '-m pip' instead of running pip directly.\n"
     ]
    }
   ],
   "source": [
    "!pip install -U gast==0.2.2"
   ]
  },
  {
   "cell_type": "code",
   "execution_count": 9,
   "metadata": {},
   "outputs": [
    {
     "data": {
      "text/plain": [
       "<tensorflow.python.eager.def_function.Function at 0x2d3d33ed888>"
      ]
     },
     "execution_count": 9,
     "metadata": {},
     "output_type": "execute_result"
    }
   ],
   "source": [
    "simple_nn_layer"
   ]
  },
  {
   "cell_type": "code",
   "execution_count": 10,
   "metadata": {},
   "outputs": [
    {
     "name": "stdout",
     "output_type": "stream",
     "text": [
      "WARNING:tensorflow:Entity <function deep_net at 0x000002D3D33C63A8> could not be transformed and will be executed as-is. Please report this to the AutoGraph team. When filing the bug, set the verbosity to 10 (on Linux, `export AUTOGRAPH_VERBOSITY=10`) and attach the full output. Cause: converting <function deep_net at 0x000002D3D33C63A8>: AssertionError: Bad argument number for Name: 3, expecting 4\n",
      "WARNING: Entity <function deep_net at 0x000002D3D33C63A8> could not be transformed and will be executed as-is. Please report this to the AutoGraph team. When filing the bug, set the verbosity to 10 (on Linux, `export AUTOGRAPH_VERBOSITY=10`) and attach the full output. Cause: converting <function deep_net at 0x000002D3D33C63A8>: AssertionError: Bad argument number for Name: 3, expecting 4\n"
     ]
    },
    {
     "data": {
      "text/plain": [
       "<tf.Tensor: id=84, shape=(3,), dtype=int32, numpy=array([3, 5, 7])>"
      ]
     },
     "execution_count": 10,
     "metadata": {},
     "output_type": "execute_result"
    }
   ],
   "source": [
    "def linear_layer(x):\n",
    "    return 2*x+1\n",
    "\n",
    "@tf.function\n",
    "def deep_net(x):\n",
    "    return tf.nn.relu(linear_layer(x))\n",
    "\n",
    "deep_net(tf.constant((1,2,3)))\n",
    "\n"
   ]
  },
  {
   "cell_type": "code",
   "execution_count": 11,
   "metadata": {},
   "outputs": [
    {
     "name": "stdout",
     "output_type": "stream",
     "text": [
      "WARNING:tensorflow:Entity <function conv_fn at 0x000002D22607FDC8> could not be transformed and will be executed as-is. Please report this to the AutoGraph team. When filing the bug, set the verbosity to 10 (on Linux, `export AUTOGRAPH_VERBOSITY=10`) and attach the full output. Cause: converting <function conv_fn at 0x000002D22607FDC8>: AssertionError: Bad argument number for Name: 3, expecting 4\n",
      "WARNING: Entity <function conv_fn at 0x000002D22607FDC8> could not be transformed and will be executed as-is. Please report this to the AutoGraph team. When filing the bug, set the verbosity to 10 (on Linux, `export AUTOGRAPH_VERBOSITY=10`) and attach the full output. Cause: converting <function conv_fn at 0x000002D22607FDC8>: AssertionError: Bad argument number for Name: 3, expecting 4\n",
      "컨볼루션 즉시 실행: 0.002598500000203785\n",
      "컨볼루션 함수: 0.0027145000003656605\n",
      "컨볼루션의 성능에는 큰 차이가 없다는 것을 확인할 수 있습니다\n"
     ]
    }
   ],
   "source": [
    "import timeit\n",
    "conv_layer = tf.keras.layers.Conv2D(100, 3)\n",
    "\n",
    "@tf.function\n",
    "def conv_fn(image):\n",
    "  return conv_layer(image)\n",
    "\n",
    "image = tf.zeros([1, 200, 200, 100])\n",
    "# 데이터 준비 (warm up)\n",
    "conv_layer(image); conv_fn(image)\n",
    "print(\"컨볼루션 즉시 실행:\", timeit.timeit(lambda: conv_layer(image), number=10))\n",
    "print(\"컨볼루션 함수:\", timeit.timeit(lambda: conv_fn(image), number=10))\n",
    "print(\"컨볼루션의 성능에는 큰 차이가 없다는 것을 확인할 수 있습니다\")"
   ]
  },
  {
   "cell_type": "code",
   "execution_count": 12,
   "metadata": {},
   "outputs": [
    {
     "name": "stdout",
     "output_type": "stream",
     "text": [
      "WARNING:tensorflow:Entity <function lstm_fn at 0x000002D3D33F9828> could not be transformed and will be executed as-is. Please report this to the AutoGraph team. When filing the bug, set the verbosity to 10 (on Linux, `export AUTOGRAPH_VERBOSITY=10`) and attach the full output. Cause: converting <function lstm_fn at 0x000002D3D33F9828>: AssertionError: Bad argument number for Name: 3, expecting 4\n",
      "WARNING: Entity <function lstm_fn at 0x000002D3D33F9828> could not be transformed and will be executed as-is. Please report this to the AutoGraph team. When filing the bug, set the verbosity to 10 (on Linux, `export AUTOGRAPH_VERBOSITY=10`) and attach the full output. Cause: converting <function lstm_fn at 0x000002D3D33F9828>: AssertionError: Bad argument number for Name: 3, expecting 4\n",
      "lstm 즉시 실행: 0.004849799999647075\n",
      "lstm 함수: 0.0030515999997078325\n"
     ]
    }
   ],
   "source": [
    "lstm_cell = tf.keras.layers.LSTMCell(10)\n",
    "\n",
    "@tf.function\n",
    "def lstm_fn(input, state):\n",
    "  return lstm_cell(input, state)\n",
    "\n",
    "input = tf.zeros([10, 10])\n",
    "state = [tf.zeros([10, 10])] * 2\n",
    "# 데이터 준비 (warm up)\n",
    "lstm_cell(input, state); lstm_fn(input, state)\n",
    "print(\"lstm 즉시 실행:\", timeit.timeit(lambda: lstm_cell(input, state), number=10))\n",
    "print(\"lstm 함수:\", timeit.timeit(lambda: lstm_fn(input, state), number=10))\n"
   ]
  },
  {
   "cell_type": "code",
   "execution_count": 13,
   "metadata": {},
   "outputs": [
    {
     "data": {
      "text/plain": [
       "<tensorflow.python.keras.layers.convolutional.Conv2D at 0x2d3d33ad548>"
      ]
     },
     "execution_count": 13,
     "metadata": {},
     "output_type": "execute_result"
    }
   ],
   "source": [
    "tf.keras.layers.Conv2D(100, 3)"
   ]
  },
  {
   "cell_type": "code",
   "execution_count": 1,
   "metadata": {},
   "outputs": [
    {
     "name": "stdout",
     "output_type": "stream",
     "text": [
      "Collecting jupyterthemes\n",
      "  Downloading jupyterthemes-0.20.0-py2.py3-none-any.whl (7.0 MB)\n",
      "Collecting matplotlib>=1.4.3\n",
      "  Downloading matplotlib-3.1.2-cp37-cp37m-win_amd64.whl (9.1 MB)\n",
      "Requirement already satisfied: notebook>=5.6.0 in c:\\users\\pc\\anaconda3\\envs\\tf2.0-gpu\\lib\\site-packages (from jupyterthemes) (6.0.3)\n",
      "Requirement already satisfied: ipython>=5.4.1 in c:\\users\\pc\\anaconda3\\envs\\tf2.0-gpu\\lib\\site-packages (from jupyterthemes) (7.11.1)\n",
      "Collecting lesscpy>=0.11.2\n",
      "  Downloading lesscpy-0.14.0-py2.py3-none-any.whl (46 kB)\n",
      "Requirement already satisfied: jupyter-core in c:\\users\\pc\\anaconda3\\envs\\tf2.0-gpu\\lib\\site-packages (from jupyterthemes) (4.6.1)\n",
      "Requirement already satisfied: python-dateutil>=2.1 in c:\\users\\pc\\anaconda3\\envs\\tf2.0-gpu\\lib\\site-packages (from matplotlib>=1.4.3->jupyterthemes) (2.8.1)\n",
      "Collecting cycler>=0.10\n",
      "  Downloading cycler-0.10.0-py2.py3-none-any.whl (6.5 kB)\n",
      "Collecting pyparsing!=2.0.4,!=2.1.2,!=2.1.6,>=2.0.1\n",
      "  Downloading pyparsing-2.4.6-py2.py3-none-any.whl (67 kB)\n",
      "Collecting kiwisolver>=1.0.1\n",
      "  Downloading kiwisolver-1.1.0-cp37-none-win_amd64.whl (57 kB)\n",
      "Requirement already satisfied: numpy>=1.11 in c:\\users\\pc\\anaconda3\\envs\\tf2.0-gpu\\lib\\site-packages (from matplotlib>=1.4.3->jupyterthemes) (1.18.1)\n",
      "Requirement already satisfied: traitlets>=4.2.1 in c:\\users\\pc\\anaconda3\\envs\\tf2.0-gpu\\lib\\site-packages (from notebook>=5.6.0->jupyterthemes) (4.3.3)\n",
      "Requirement already satisfied: pyzmq>=17 in c:\\users\\pc\\anaconda3\\envs\\tf2.0-gpu\\lib\\site-packages (from notebook>=5.6.0->jupyterthemes) (18.1.0)\n",
      "Requirement already satisfied: nbconvert in c:\\users\\pc\\anaconda3\\envs\\tf2.0-gpu\\lib\\site-packages (from notebook>=5.6.0->jupyterthemes) (5.6.1)\n",
      "Requirement already satisfied: ipython-genutils in c:\\users\\pc\\anaconda3\\envs\\tf2.0-gpu\\lib\\site-packages (from notebook>=5.6.0->jupyterthemes) (0.2.0)\n",
      "Requirement already satisfied: nbformat in c:\\users\\pc\\anaconda3\\envs\\tf2.0-gpu\\lib\\site-packages (from notebook>=5.6.0->jupyterthemes) (5.0.4)\n",
      "Requirement already satisfied: Send2Trash in c:\\users\\pc\\anaconda3\\envs\\tf2.0-gpu\\lib\\site-packages (from notebook>=5.6.0->jupyterthemes) (1.5.0)\n",
      "Requirement already satisfied: terminado>=0.8.1 in c:\\users\\pc\\anaconda3\\envs\\tf2.0-gpu\\lib\\site-packages (from notebook>=5.6.0->jupyterthemes) (0.8.3)\n",
      "Requirement already satisfied: tornado>=5.0 in c:\\users\\pc\\anaconda3\\envs\\tf2.0-gpu\\lib\\site-packages (from notebook>=5.6.0->jupyterthemes) (6.0.3)\n",
      "Requirement already satisfied: prometheus-client in c:\\users\\pc\\anaconda3\\envs\\tf2.0-gpu\\lib\\site-packages (from notebook>=5.6.0->jupyterthemes) (0.7.1)\n",
      "Requirement already satisfied: jupyter-client>=5.3.4 in c:\\users\\pc\\anaconda3\\envs\\tf2.0-gpu\\lib\\site-packages (from notebook>=5.6.0->jupyterthemes) (5.3.4)\n",
      "Requirement already satisfied: ipykernel in c:\\users\\pc\\anaconda3\\envs\\tf2.0-gpu\\lib\\site-packages (from notebook>=5.6.0->jupyterthemes) (5.1.4)\n",
      "Requirement already satisfied: jinja2 in c:\\users\\pc\\anaconda3\\envs\\tf2.0-gpu\\lib\\site-packages (from notebook>=5.6.0->jupyterthemes) (2.10.3)\n",
      "Requirement already satisfied: decorator in c:\\users\\pc\\anaconda3\\envs\\tf2.0-gpu\\lib\\site-packages (from ipython>=5.4.1->jupyterthemes) (4.4.1)\n",
      "Requirement already satisfied: prompt-toolkit!=3.0.0,!=3.0.1,<3.1.0,>=2.0.0 in c:\\users\\pc\\anaconda3\\envs\\tf2.0-gpu\\lib\\site-packages (from ipython>=5.4.1->jupyterthemes) (3.0.2)\n",
      "Requirement already satisfied: jedi>=0.10 in c:\\users\\pc\\anaconda3\\envs\\tf2.0-gpu\\lib\\site-packages (from ipython>=5.4.1->jupyterthemes) (0.16.0)\n",
      "Requirement already satisfied: colorama; sys_platform == \"win32\" in c:\\users\\pc\\anaconda3\\envs\\tf2.0-gpu\\lib\\site-packages (from ipython>=5.4.1->jupyterthemes) (0.4.3)\n",
      "Requirement already satisfied: setuptools>=18.5 in c:\\users\\pc\\anaconda3\\envs\\tf2.0-gpu\\lib\\site-packages (from ipython>=5.4.1->jupyterthemes) (45.1.0.post20200127)\n",
      "Requirement already satisfied: pygments in c:\\users\\pc\\anaconda3\\envs\\tf2.0-gpu\\lib\\site-packages (from ipython>=5.4.1->jupyterthemes) (2.5.2)\n",
      "Requirement already satisfied: pickleshare in c:\\users\\pc\\anaconda3\\envs\\tf2.0-gpu\\lib\\site-packages (from ipython>=5.4.1->jupyterthemes) (0.7.5)\n",
      "Requirement already satisfied: backcall in c:\\users\\pc\\anaconda3\\envs\\tf2.0-gpu\\lib\\site-packages (from ipython>=5.4.1->jupyterthemes) (0.1.0)\n",
      "Collecting ply\n",
      "  Downloading ply-3.11-py2.py3-none-any.whl (49 kB)\n",
      "Requirement already satisfied: six in c:\\users\\pc\\anaconda3\\envs\\tf2.0-gpu\\lib\\site-packages (from lesscpy>=0.11.2->jupyterthemes) (1.14.0)\n",
      "Requirement already satisfied: pywin32>=1.0; sys_platform == \"win32\" in c:\\users\\pc\\anaconda3\\envs\\tf2.0-gpu\\lib\\site-packages (from jupyter-core->jupyterthemes) (227)\n",
      "Requirement already satisfied: mistune<2,>=0.8.1 in c:\\users\\pc\\anaconda3\\envs\\tf2.0-gpu\\lib\\site-packages (from nbconvert->notebook>=5.6.0->jupyterthemes) (0.8.4)\n",
      "Requirement already satisfied: defusedxml in c:\\users\\pc\\anaconda3\\envs\\tf2.0-gpu\\lib\\site-packages (from nbconvert->notebook>=5.6.0->jupyterthemes) (0.6.0)\n",
      "Requirement already satisfied: testpath in c:\\users\\pc\\anaconda3\\envs\\tf2.0-gpu\\lib\\site-packages (from nbconvert->notebook>=5.6.0->jupyterthemes) (0.4.4)\n",
      "Requirement already satisfied: entrypoints>=0.2.2 in c:\\users\\pc\\anaconda3\\envs\\tf2.0-gpu\\lib\\site-packages (from nbconvert->notebook>=5.6.0->jupyterthemes) (0.3)\n",
      "Requirement already satisfied: bleach in c:\\users\\pc\\anaconda3\\envs\\tf2.0-gpu\\lib\\site-packages (from nbconvert->notebook>=5.6.0->jupyterthemes) (3.1.0)\n",
      "Requirement already satisfied: pandocfilters>=1.4.1 in c:\\users\\pc\\anaconda3\\envs\\tf2.0-gpu\\lib\\site-packages (from nbconvert->notebook>=5.6.0->jupyterthemes) (1.4.2)\n",
      "Requirement already satisfied: jsonschema!=2.5.0,>=2.4 in c:\\users\\pc\\anaconda3\\envs\\tf2.0-gpu\\lib\\site-packages (from nbformat->notebook>=5.6.0->jupyterthemes) (3.2.0)\n",
      "Requirement already satisfied: MarkupSafe>=0.23 in c:\\users\\pc\\anaconda3\\envs\\tf2.0-gpu\\lib\\site-packages (from jinja2->notebook>=5.6.0->jupyterthemes) (1.1.1)\n",
      "Requirement already satisfied: wcwidth in c:\\users\\pc\\anaconda3\\envs\\tf2.0-gpu\\lib\\site-packages (from prompt-toolkit!=3.0.0,!=3.0.1,<3.1.0,>=2.0.0->ipython>=5.4.1->jupyterthemes) (0.1.7)\n",
      "Requirement already satisfied: parso>=0.5.2 in c:\\users\\pc\\anaconda3\\envs\\tf2.0-gpu\\lib\\site-packages (from jedi>=0.10->ipython>=5.4.1->jupyterthemes) (0.6.0)\n",
      "Requirement already satisfied: webencodings in c:\\users\\pc\\anaconda3\\envs\\tf2.0-gpu\\lib\\site-packages (from bleach->nbconvert->notebook>=5.6.0->jupyterthemes) (0.5.1)\n",
      "Requirement already satisfied: importlib-metadata; python_version < \"3.8\" in c:\\users\\pc\\anaconda3\\envs\\tf2.0-gpu\\lib\\site-packages (from jsonschema!=2.5.0,>=2.4->nbformat->notebook>=5.6.0->jupyterthemes) (1.4.0)\n",
      "Requirement already satisfied: attrs>=17.4.0 in c:\\users\\pc\\anaconda3\\envs\\tf2.0-gpu\\lib\\site-packages (from jsonschema!=2.5.0,>=2.4->nbformat->notebook>=5.6.0->jupyterthemes) (19.3.0)\n",
      "Requirement already satisfied: pyrsistent>=0.14.0 in c:\\users\\pc\\anaconda3\\envs\\tf2.0-gpu\\lib\\site-packages (from jsonschema!=2.5.0,>=2.4->nbformat->notebook>=5.6.0->jupyterthemes) (0.15.7)\n",
      "Requirement already satisfied: zipp>=0.5 in c:\\users\\pc\\anaconda3\\envs\\tf2.0-gpu\\lib\\site-packages (from importlib-metadata; python_version < \"3.8\"->jsonschema!=2.5.0,>=2.4->nbformat->notebook>=5.6.0->jupyterthemes) (0.6.0)\n",
      "Requirement already satisfied: more-itertools in c:\\users\\pc\\anaconda3\\envs\\tf2.0-gpu\\lib\\site-packages (from zipp>=0.5->importlib-metadata; python_version < \"3.8\"->jsonschema!=2.5.0,>=2.4->nbformat->notebook>=5.6.0->jupyterthemes) (8.0.2)\n",
      "Installing collected packages: cycler, pyparsing, kiwisolver, matplotlib, ply, lesscpy, jupyterthemes\n",
      "Successfully installed cycler-0.10.0 jupyterthemes-0.20.0 kiwisolver-1.1.0 lesscpy-0.14.0 matplotlib-3.1.2 ply-3.11 pyparsing-2.4.6\n"
     ]
    },
    {
     "name": "stderr",
     "output_type": "stream",
     "text": [
      "WARNING: pip is being invoked by an old script wrapper. This will fail in a future version of pip.\n",
      "Please see https://github.com/pypa/pip/issues/5599 for advice on fixing the underlying issue.\n",
      "To avoid this problem you can invoke Python with '-m pip' instead of running pip directly.\n"
     ]
    }
   ],
   "source": [
    "!pip install jupyterthemes"
   ]
  },
  {
   "cell_type": "code",
   "execution_count": 3,
   "metadata": {},
   "outputs": [
    {
     "name": "stdout",
     "output_type": "stream",
     "text": [
      "Available Themes: \n",
      "   chesterish\n",
      "   grade3\n",
      "   gruvboxd\n",
      "   gruvboxl\n",
      "   monokai\n",
      "   oceans16\n",
      "   onedork\n",
      "   solarizedd\n",
      "   solarizedl\n"
     ]
    }
   ],
   "source": [
    "!jt -l"
   ]
  },
  {
   "cell_type": "code",
   "execution_count": 4,
   "metadata": {},
   "outputs": [
    {
     "name": "stdout",
     "output_type": "stream",
     "text": [
      "\n",
      "\tOne of the fonts you requested is not available\n",
      "\tSetting all fonts to default\n"
     ]
    },
    {
     "name": "stderr",
     "output_type": "stream",
     "text": [
      "Traceback (most recent call last):\n",
      "  File \"c:\\users\\pc\\anaconda3\\envs\\tf2.0-gpu\\lib\\runpy.py\", line 193, in _run_module_as_main\n",
      "    \"__main__\", mod_spec)\n",
      "  File \"c:\\users\\pc\\anaconda3\\envs\\tf2.0-gpu\\lib\\runpy.py\", line 85, in _run_code\n",
      "    exec(code, run_globals)\n",
      "  File \"C:\\Users\\pc\\Anaconda3\\envs\\tf2.0-gpu\\Scripts\\jt.exe\\__main__.py\", line 7, in <module>\n",
      "  File \"c:\\users\\pc\\anaconda3\\envs\\tf2.0-gpu\\lib\\site-packages\\jupyterthemes\\__init__.py\", line 314, in main\n",
      "    dfonts=args.defaultfonts)\n",
      "  File \"c:\\users\\pc\\anaconda3\\envs\\tf2.0-gpu\\lib\\site-packages\\jupyterthemes\\__init__.py\", line 80, in install_theme\n",
      "    dfonts=dfonts)\n",
      "  File \"c:\\users\\pc\\anaconda3\\envs\\tf2.0-gpu\\lib\\site-packages\\jupyterthemes\\stylefx.py\", line 142, in set_font_properties\n",
      "    monofont, monofpath = stored_font_dicts(monofont)\n",
      "ValueError: not enough values to unpack (expected 2, got 0)\n"
     ]
    }
   ],
   "source": [
    "!jt -f Consolas"
   ]
  },
  {
   "cell_type": "code",
   "execution_count": null,
   "metadata": {},
   "outputs": [],
   "source": []
  }
 ],
 "metadata": {
  "kernelspec": {
   "display_name": "tf-gpu",
   "language": "python",
   "name": "tf2.0-gpu"
  },
  "language_info": {
   "codemirror_mode": {
    "name": "ipython",
    "version": 3
   },
   "file_extension": ".py",
   "mimetype": "text/x-python",
   "name": "python",
   "nbconvert_exporter": "python",
   "pygments_lexer": "ipython3",
   "version": "3.7.6"
  }
 },
 "nbformat": 4,
 "nbformat_minor": 4
}
